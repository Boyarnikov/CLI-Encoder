{
  "cells": [
    {
      "cell_type": "markdown",
      "metadata": {
        "id": "view-in-github",
        "colab_type": "text"
      },
      "source": [
        "<a href=\"https://colab.research.google.com/github/polaris2010/CLI-Encoder/blob/main/asyncio.ipynb\" target=\"_parent\"><img src=\"https://colab.research.google.com/assets/colab-badge.svg\" alt=\"Open In Colab\"/></a>"
      ]
    },
    {
      "cell_type": "markdown",
      "id": "6906ec7a",
      "metadata": {
        "id": "6906ec7a"
      },
      "source": [
        "# Асинхронное программирование на Python. Библиотека [asyncio](https://docs.python.org/3/library/asyncio.html)"
      ]
    },
    {
      "cell_type": "markdown",
      "id": "d501da86",
      "metadata": {
        "id": "d501da86"
      },
      "source": [
        "Слыша слова \"асинхронное программирование\" в основном представляется, что имея одну большую задачу мы хотим разбить ее на несколько небольших кусочков и выполнить их независимо друг от друга, а после склеить результаты и получить полное решение.\n",
        "\n",
        "Однако как же это правильно реализовать на самом деле?"
      ]
    },
    {
      "cell_type": "markdown",
      "id": "024eba80",
      "metadata": {
        "id": "024eba80"
      },
      "source": [
        "Задачи, которые перед нами возникают принято делить на 2 типа:\n",
        "- **I/O-bound**\n",
        "\n",
        "    Это тип задач, которые которые в основном зависят от скорости ввода/вывода информации (input/output)\n",
        "\n",
        "\n",
        "- **CPU-bound**\n",
        "\n",
        "    Вычислительные задачи, которые в основном зависят от ресурсов процессора. Примерами таких задач могут служить математические вычисления, майнинг криптовалют или взлом шифров по ключу с помощью подбора простых множителей.\n",
        "\n",
        "\n",
        "В зависимости от типа задачи используют разные подходы к её делению на подзадачи.\n"
      ]
    },
    {
      "cell_type": "markdown",
      "id": "4f862b4c",
      "metadata": {
        "id": "4f862b4c"
      },
      "source": [
        "## IO-bound задачи"
      ]
    },
    {
      "cell_type": "markdown",
      "source": [
        "**Идея** - будем распределять множество задач одному работнику, причем пока одна из задач не требует непосредственного его участия он начинает делать следующую."
      ],
      "metadata": {
        "id": "qRKg33B6QRdT"
      },
      "id": "qRKg33B6QRdT"
    },
    {
      "cell_type": "markdown",
      "source": [
        "Множество задач внутри которых есть какое-либо ожидание (например, ожидание ответа от сервера) запускаются по очереди, причем пока одна задача находится в режиме ожидания другая начинает работать. Стоит отметить, что все происходит в **одном** потоке."
      ],
      "metadata": {
        "id": "OobvmRSTQTMt"
      },
      "id": "OobvmRSTQTMt"
    },
    {
      "cell_type": "markdown",
      "source": [
        "**Как же будет устроена работа асинхронного кода?**\n",
        "\n",
        "У нас будут функции, которые умеют засыпать и просыпаться в нужное время, а так же обработчик (*event loop*). Мы собираем функции в обработчик. Когда одна из функций засыпает управление получает обработчик, после чего отдает управление очередной функции.\n"
      ],
      "metadata": {
        "id": "R4I5nL8BQlvF"
      },
      "id": "R4I5nL8BQlvF"
    },
    {
      "cell_type": "markdown",
      "id": "81b060b9",
      "metadata": {
        "id": "81b060b9"
      },
      "source": [
        "Рассмотрим простейший пример:"
      ]
    },
    {
      "cell_type": "code",
      "execution_count": null,
      "id": "3c7ec84e",
      "metadata": {
        "id": "3c7ec84e"
      },
      "outputs": [],
      "source": [
        "import time\n",
        "queue = []\n",
        "\n",
        "def counter():\n",
        "    cnt = 0\n",
        "    while True:\n",
        "        print(cnt)\n",
        "        cnt += 1\n",
        "        yield\n",
        "\n",
        "\n",
        "def printer():\n",
        "    cnt = 1\n",
        "    while True:\n",
        "        if cnt%3 == 0:\n",
        "            print(\"Go!\")\n",
        "        cnt += 1\n",
        "        yield\n",
        "\n",
        "\n",
        "g1 = counter()\n",
        "queue.append(g1)\n",
        "\n",
        "g2 = printer()\n",
        "queue.append(g2)\n",
        "\n",
        "i = 0\n",
        "while True:\n",
        "    g = queue.pop(0)\n",
        "    time.sleep(0.5)\n",
        "    next(g)\n",
        "    queue.append(g)\n",
        "    i += 1\n",
        "    if i == 100: break"
      ]
    },
    {
      "cell_type": "markdown",
      "id": "0560fbf9",
      "metadata": {
        "id": "0560fbf9"
      },
      "source": [
        "В Python много библиотек для асинхронного программирования, наиболее популярными являются Tornado, Asyncio и Gevent. Давайте посмотрим, как работает Asyncio."
      ]
    },
    {
      "cell_type": "markdown",
      "id": "2164a8e9",
      "metadata": {
        "id": "2164a8e9"
      },
      "source": [
        "# Asyncio"
      ]
    },
    {
      "cell_type": "code",
      "execution_count": null,
      "id": "aff57c6b",
      "metadata": {
        "id": "aff57c6b"
      },
      "outputs": [],
      "source": [
        "import asyncio"
      ]
    },
    {
      "cell_type": "markdown",
      "id": "7b100875",
      "metadata": {
        "id": "7b100875"
      },
      "source": [
        "Объект корутины (асинхронная функция) объявляется с помощью `async def` и исполняется с помощью `await`:"
      ]
    },
    {
      "cell_type": "code",
      "execution_count": null,
      "id": "1d512267",
      "metadata": {
        "id": "1d512267",
        "colab": {
          "base_uri": "https://localhost:8080/"
        },
        "outputId": "92090469-f261-4e0d-abf9-6c6c1aa0a06f"
      },
      "outputs": [
        {
          "output_type": "stream",
          "name": "stdout",
          "text": [
            "1\n",
            "2\n",
            "3\n",
            "Go!\n"
          ]
        }
      ],
      "source": [
        "async def rocket():\n",
        "    print(1)\n",
        "    await asyncio.sleep(1)\n",
        "    print(2)\n",
        "    await asyncio.sleep(1)\n",
        "    print(3)\n",
        "    await asyncio.sleep(1)\n",
        "    print(\"Go!\")\n",
        "\n",
        "await rocket()"
      ]
    },
    {
      "cell_type": "markdown",
      "id": "ab5882f2",
      "metadata": {
        "id": "ab5882f2"
      },
      "source": [
        "Заметим, что просто написав rocket() у нас ничего не выполнится."
      ]
    },
    {
      "cell_type": "code",
      "execution_count": null,
      "id": "4a7307d2",
      "metadata": {
        "id": "4a7307d2",
        "colab": {
          "base_uri": "https://localhost:8080/"
        },
        "outputId": "bfe6c92a-2e5c-4f7a-eaf7-7ce279d654f6"
      },
      "outputs": [
        {
          "output_type": "execute_result",
          "data": {
            "text/plain": [
              "<coroutine object rocket at 0x79742decab90>"
            ]
          },
          "metadata": {},
          "execution_count": 5
        }
      ],
      "source": [
        "rocket()"
      ]
    },
    {
      "cell_type": "markdown",
      "id": "a016119f",
      "metadata": {
        "id": "a016119f"
      },
      "source": [
        "Разберем следующий пример:"
      ]
    },
    {
      "cell_type": "code",
      "execution_count": null,
      "id": "b55e1843",
      "metadata": {
        "id": "b55e1843",
        "colab": {
          "base_uri": "https://localhost:8080/"
        },
        "outputId": "790f609a-b7b5-4dcb-dc5e-4e4ff8a3b856"
      },
      "outputs": [
        {
          "output_type": "stream",
          "name": "stdout",
          "text": [
            "hello\n",
            " world\n",
            "Time: 3.003570079803467\n"
          ]
        }
      ],
      "source": [
        "import time\n",
        "\n",
        "\n",
        "async def say_after(delay, msg):\n",
        "    await asyncio.sleep(delay)\n",
        "    print(msg)\n",
        "\n",
        "async def main():\n",
        "    started = time.time()\n",
        "\n",
        "    await say_after(1, 'hello')\n",
        "    await say_after(2, ' world')\n",
        "\n",
        "    print(f\"Time: {time.time() - started}\")\n",
        "\n",
        "await main()"
      ]
    },
    {
      "cell_type": "markdown",
      "source": [
        "Хм, что-то не то, ждем все три секунды, где же профит?"
      ],
      "metadata": {
        "id": "We8a-dtJQy35"
      },
      "id": "We8a-dtJQy35"
    },
    {
      "cell_type": "markdown",
      "id": "d27c7033",
      "metadata": {
        "id": "d27c7033"
      },
      "source": [
        "Проблема заключается в том, что в нашем коде задачи выполняются последовательно с использованием `await`. Каждый вызов `await` блокирует выполнение текущей корутины до завершения задачи. Поэтому корутины `say_after` выполняются последовательно, а не параллельно."
      ]
    },
    {
      "cell_type": "markdown",
      "source": [
        "Теперь рассмотрим как можно исправить такую проблему. Поговорим про `Task()`."
      ],
      "metadata": {
        "id": "oYAUOBj7Q1Ap"
      },
      "id": "oYAUOBj7Q1Ap"
    },
    {
      "cell_type": "markdown",
      "source": [
        "## `Task`"
      ],
      "metadata": {
        "id": "-IXo72GiQ_xm"
      },
      "id": "-IXo72GiQ_xm"
    },
    {
      "cell_type": "markdown",
      "source": [
        "`Task()` - это объект, который запускает корутину. Объект `Task` используется для запуска корутин в циклах событий при помощи оператора `await`."
      ],
      "metadata": {
        "id": "nhmMHkVYQ_k5"
      },
      "id": "nhmMHkVYQ_k5"
    },
    {
      "cell_type": "markdown",
      "id": "eb4561b1",
      "metadata": {
        "id": "eb4561b1"
      },
      "source": [
        "Циклы событий используют **совместное планирование**. Другими словами, цикл событий запускает одну задачу за раз. Пока объект задачи Task ожидает готовности, цикл событий запускает другие задачи, обратные вызовы или выполняет операции ввода-вывода."
      ]
    },
    {
      "cell_type": "markdown",
      "source": [
        "Теперь создадим задачи и посмотрим, исправило ли эту проблему:"
      ],
      "metadata": {
        "id": "F5k1U7UCQ6bi"
      },
      "id": "F5k1U7UCQ6bi"
    },
    {
      "cell_type": "code",
      "execution_count": null,
      "id": "c3bc8049",
      "metadata": {
        "id": "c3bc8049",
        "colab": {
          "base_uri": "https://localhost:8080/"
        },
        "outputId": "e9d566dd-40e8-4509-f66c-aa8283411099"
      },
      "outputs": [
        {
          "output_type": "stream",
          "name": "stdout",
          "text": [
            "hello\n",
            "world\n",
            "Time: 2.002523422241211\n"
          ]
        }
      ],
      "source": [
        "async def main():\n",
        "    task1 = asyncio.create_task(\n",
        "        say_after(1, 'hello'))\n",
        "\n",
        "    task2 = asyncio.create_task(\n",
        "        say_after(2, 'world'))\n",
        "\n",
        "    started = time.time()\n",
        "\n",
        "    await task1\n",
        "    await task2\n",
        "\n",
        "    print(f\"Time: {time.time() - started}\")\n",
        "\n",
        "await main()"
      ]
    },
    {
      "cell_type": "markdown",
      "id": "f661d941",
      "metadata": {
        "id": "f661d941"
      },
      "source": [
        "Как мы видим, это нам помогло исправить нашу проблему!"
      ]
    },
    {
      "cell_type": "markdown",
      "id": "70d8db41",
      "metadata": {
        "id": "70d8db41"
      },
      "source": [
        "Теперь рассмотрим некоторые полезные метода класса `Task()`:"
      ]
    },
    {
      "cell_type": "code",
      "execution_count": null,
      "id": "aa4661da",
      "metadata": {
        "id": "aa4661da",
        "colab": {
          "base_uri": "https://localhost:8080/"
        },
        "outputId": "422d7081-88fa-4bf4-ae5f-7d00baa7e9ec"
      },
      "outputs": [
        {
          "output_type": "stream",
          "name": "stdout",
          "text": [
            "hello\n"
          ]
        }
      ],
      "source": [
        "task = asyncio.create_task(\n",
        "    say_after(1, 'hello')\n",
        ")\n",
        "\n",
        "await task"
      ]
    },
    {
      "cell_type": "markdown",
      "id": "02b97217",
      "metadata": {
        "id": "02b97217"
      },
      "source": [
        "Метод `Task.cancelled()` возвращает `True`, если задача `Task` отменена.\n",
        "\n",
        "Задача отменяется, когда отмена была запрошена с помощью метода `Task.cancel()` и обернутая сопрограмма распространила переданное в нее исключение `asyncio.CancelledError`."
      ]
    },
    {
      "cell_type": "code",
      "execution_count": null,
      "id": "b51a45d9",
      "metadata": {
        "id": "b51a45d9",
        "colab": {
          "base_uri": "https://localhost:8080/"
        },
        "outputId": "ef5c4616-4de5-4173-d9c3-94a0fda3fb4a"
      },
      "outputs": [
        {
          "output_type": "execute_result",
          "data": {
            "text/plain": [
              "False"
            ]
          },
          "metadata": {},
          "execution_count": 17
        }
      ],
      "source": [
        "task.cancelled()"
      ]
    },
    {
      "cell_type": "markdown",
      "id": "424d1428",
      "metadata": {
        "id": "424d1428"
      },
      "source": [
        "Метод `Task.done()` возвращает `True`, если задача `Task` выполнена.\n",
        "\n",
        "Задача считается выполненной, когда обернутая сопрограмма либо отработала и вернула результат, либо вызвала исключение, либо была отменена."
      ]
    },
    {
      "cell_type": "code",
      "execution_count": null,
      "id": "e71b0495",
      "metadata": {
        "id": "e71b0495",
        "colab": {
          "base_uri": "https://localhost:8080/"
        },
        "outputId": "baed382a-4ead-4ab6-d896-ef91cf7697c3"
      },
      "outputs": [
        {
          "output_type": "execute_result",
          "data": {
            "text/plain": [
              "True"
            ]
          },
          "metadata": {},
          "execution_count": 18
        }
      ],
      "source": [
        "task.done()"
      ]
    },
    {
      "cell_type": "markdown",
      "id": "1e705484",
      "metadata": {
        "id": "1e705484"
      },
      "source": [
        "В примере ниже задача `my_coroutine()` выполняется асинхронно с помощью `asyncio.create_task()`. Если вызовете `task.done()` непосредственно после создания задачи, она вернет `False`, так как задача еще не завершилась."
      ]
    },
    {
      "cell_type": "code",
      "execution_count": null,
      "id": "2ae6ed1e",
      "metadata": {
        "id": "2ae6ed1e",
        "colab": {
          "base_uri": "https://localhost:8080/"
        },
        "outputId": "d5e603a6-4cc0-44cd-d6a8-539ef64c830f"
      },
      "outputs": [
        {
          "output_type": "stream",
          "name": "stdout",
          "text": [
            "Задача все еще выполняется\n"
          ]
        }
      ],
      "source": [
        "async def my_coroutine():\n",
        "    await asyncio.sleep(3)\n",
        "    print(\"Задача завершена\")\n",
        "\n",
        "\n",
        "async def main():\n",
        "    task = asyncio.create_task(my_coroutine())\n",
        "    if task.done():\n",
        "        print(\"Задача уже завершена\")\n",
        "    else:\n",
        "        print(\"Задача все еще выполняется\")\n",
        "\n",
        "\n",
        "await main()"
      ]
    },
    {
      "cell_type": "markdown",
      "id": "4db348ce",
      "metadata": {
        "id": "4db348ce"
      },
      "source": [
        "Метод `Task.set_name()` устанавливает имя для задачи `Task`. Аргументом значения может быть любой объект, который затем преобразуется в строку."
      ]
    },
    {
      "cell_type": "code",
      "execution_count": null,
      "id": "4866ac62",
      "metadata": {
        "id": "4866ac62"
      },
      "outputs": [],
      "source": [
        "task.set_name(123)"
      ]
    },
    {
      "cell_type": "markdown",
      "id": "24893373",
      "metadata": {
        "id": "24893373"
      },
      "source": [
        "Метод `Task.get_name()` возвращает имя name задачи Task. Если имя задачи Task не было явно установлено, то по умолчанию оно генерируется во время создания:"
      ]
    },
    {
      "cell_type": "code",
      "execution_count": null,
      "id": "6dd7267e",
      "metadata": {
        "id": "6dd7267e",
        "colab": {
          "base_uri": "https://localhost:8080/",
          "height": 35
        },
        "outputId": "0766efa6-c889-4463-a2b2-eb8490decb7a"
      },
      "outputs": [
        {
          "output_type": "execute_result",
          "data": {
            "text/plain": [
              "'123'"
            ],
            "application/vnd.google.colaboratory.intrinsic+json": {
              "type": "string"
            }
          },
          "metadata": {},
          "execution_count": 21
        }
      ],
      "source": [
        "task.get_name()"
      ]
    },
    {
      "cell_type": "code",
      "execution_count": null,
      "id": "64e6ad56",
      "metadata": {
        "id": "64e6ad56",
        "colab": {
          "base_uri": "https://localhost:8080/"
        },
        "outputId": "1a226207-9902-43d0-fda6-b9e1853793c3"
      },
      "outputs": [
        {
          "output_type": "stream",
          "name": "stdout",
          "text": [
            "Задача завершена\n",
            "Задача завершена\n"
          ]
        }
      ],
      "source": [
        "task2 = asyncio.create_task(my_coroutine())\n",
        "task3 = asyncio.create_task(my_coroutine())"
      ]
    },
    {
      "cell_type": "code",
      "source": [
        "task2.get_name()"
      ],
      "metadata": {
        "colab": {
          "base_uri": "https://localhost:8080/",
          "height": 35
        },
        "id": "b0Z6W-jk2dky",
        "outputId": "a4b97d35-20a7-481a-b667-39b8f1f7f4a2"
      },
      "id": "b0Z6W-jk2dky",
      "execution_count": null,
      "outputs": [
        {
          "output_type": "execute_result",
          "data": {
            "text/plain": [
              "'Task-39'"
            ],
            "application/vnd.google.colaboratory.intrinsic+json": {
              "type": "string"
            }
          },
          "metadata": {},
          "execution_count": 26
        }
      ]
    },
    {
      "cell_type": "code",
      "source": [
        "task3.get_name()"
      ],
      "metadata": {
        "colab": {
          "base_uri": "https://localhost:8080/",
          "height": 35
        },
        "id": "XlST_Ne82fKP",
        "outputId": "4ca33fbc-e5a4-47d0-8966-13d218a85ad8"
      },
      "id": "XlST_Ne82fKP",
      "execution_count": null,
      "outputs": [
        {
          "output_type": "execute_result",
          "data": {
            "text/plain": [
              "'Task-40'"
            ],
            "application/vnd.google.colaboratory.intrinsic+json": {
              "type": "string"
            }
          },
          "metadata": {},
          "execution_count": 27
        }
      ]
    },
    {
      "cell_type": "markdown",
      "id": "16c729ca",
      "metadata": {
        "id": "16c729ca"
      },
      "source": [
        "Так же важно знать про объекты `Future`.\n",
        "\n",
        "Класс `asyncio.Future()` представляет собой конечный результат асинхронной операции. Класс `Task()` является подклассом класса `Future()`."
      ]
    },
    {
      "cell_type": "code",
      "execution_count": null,
      "id": "e092e0e6",
      "metadata": {
        "id": "e092e0e6",
        "colab": {
          "base_uri": "https://localhost:8080/"
        },
        "outputId": "0b41488a-13c8-48bd-d84c-7d5e2125cc3d"
      },
      "outputs": [
        {
          "output_type": "stream",
          "name": "stdout",
          "text": [
            "Завершено!\n"
          ]
        }
      ],
      "source": [
        "async def slow_operation():\n",
        "    await asyncio.sleep(2)\n",
        "    return \"Завершено!\"\n",
        "\n",
        "\n",
        "async def main():\n",
        "    future = asyncio.ensure_future(slow_operation())  # Создание объекта Future\n",
        "    await asyncio.sleep(1)\n",
        "    future_result = await future  # Ожидание завершения Future\n",
        "    print(future_result)\n",
        "\n",
        "\n",
        "await main()"
      ]
    },
    {
      "cell_type": "markdown",
      "id": "b4997448",
      "metadata": {
        "id": "b4997448"
      },
      "source": [
        "### Функция `gather`"
      ]
    },
    {
      "cell_type": "markdown",
      "id": "d0b9a958",
      "metadata": {
        "id": "d0b9a958"
      },
      "source": [
        "Функция `gather()` одновременно запускает объекты, переданные в функцию."
      ]
    },
    {
      "cell_type": "markdown",
      "source": [
        "Рассмотрим это на примере - мы хотим подключаться к пользователю и отправлять ему тестовое сообщение:"
      ],
      "metadata": {
        "id": "0qkYBDAbRgTq"
      },
      "id": "0qkYBDAbRgTq"
    },
    {
      "cell_type": "code",
      "execution_count": null,
      "id": "83911cd8",
      "metadata": {
        "id": "83911cd8",
        "colab": {
          "base_uri": "https://localhost:8080/"
        },
        "outputId": "57f7bbbd-d58c-40fe-ebc1-8de6196ba012"
      },
      "outputs": [
        {
          "output_type": "stream",
          "name": "stdout",
          "text": [
            "Подключаюсь к 1\n",
            "Подключаюсь к 2\n",
            "Подключаюсь к 3\n",
            "Подключаюсь к 4\n",
            "Отправляю команду test пользователю 1\n",
            "Отправляю команду test пользователю 2\n",
            "Отправляю команду test пользователю 3\n",
            "Отправляю команду test пользователю 4\n"
          ]
        }
      ],
      "source": [
        "id_list = [1, 2, 3, 4]\n",
        "\n",
        "async def connect_to_user(usr_id):\n",
        "    print(f'Подключаюсь к {usr_id}')\n",
        "    await asyncio.sleep(2)\n",
        "    print(f'Отправляю команду test пользователю {usr_id}')\n",
        "    await asyncio.sleep(2)\n",
        "\n",
        "\n",
        "async def send_msg(id_list):\n",
        "    coroutines = map(connect_to_user, id_list)\n",
        "    result = await asyncio.gather(*coroutines,return_exceptions=False )\n",
        "    return result\n",
        "\n",
        "res = await send_msg(id_list)"
      ]
    },
    {
      "cell_type": "markdown",
      "id": "a57d307d",
      "metadata": {
        "id": "a57d307d"
      },
      "source": [
        "А что произойдет, если попытка подключения окажется неудачной и выбросится исключение? Как мы будем его обрабатывать?\n",
        "\n",
        "Для этого есть аргумент `return_exceptions`:\n",
        "- `return_exceptions=False` (по умолчанию) - первое появившееся исключение, немедленно распространяется на ту задачу, в которой оно возникло в момент ожидания `asyncio.gather()`, при этом другие объекты в последовательности не будут отменены и продолжат выполнение.\n",
        "- `return_exceptions=True` - исключения обрабатываются так же, как успешные результаты и передаются в совокупный список результатов."
      ]
    },
    {
      "cell_type": "code",
      "execution_count": null,
      "id": "295f56da",
      "metadata": {
        "id": "295f56da",
        "colab": {
          "base_uri": "https://localhost:8080/",
          "height": 391
        },
        "outputId": "b0ca3f28-3c5f-41b0-cd52-83e574e43402"
      },
      "outputs": [
        {
          "output_type": "stream",
          "name": "stdout",
          "text": [
            "Подключаюсь к 1\n",
            "Подключаюсь к 2\n",
            "Подключаюсь к 3\n",
            "Подключаюсь к 4\n"
          ]
        },
        {
          "output_type": "error",
          "ename": "OSError",
          "evalue": "Не могу подключиться к 4",
          "traceback": [
            "\u001b[0;31m---------------------------------------------------------------------------\u001b[0m",
            "\u001b[0;31mOSError\u001b[0m                                   Traceback (most recent call last)",
            "\u001b[0;32m<ipython-input-31-db1452323e89>\u001b[0m in \u001b[0;36m<cell line: 15>\u001b[0;34m()\u001b[0m\n\u001b[1;32m     13\u001b[0m     \u001b[0;32mreturn\u001b[0m \u001b[0mresult\u001b[0m\u001b[0;34m\u001b[0m\u001b[0;34m\u001b[0m\u001b[0m\n\u001b[1;32m     14\u001b[0m \u001b[0;34m\u001b[0m\u001b[0m\n\u001b[0;32m---> 15\u001b[0;31m \u001b[0;32mawait\u001b[0m \u001b[0msend_msg\u001b[0m\u001b[0;34m(\u001b[0m\u001b[0mid_list\u001b[0m\u001b[0;34m,\u001b[0m \u001b[0;32mFalse\u001b[0m\u001b[0;34m)\u001b[0m\u001b[0;34m\u001b[0m\u001b[0;34m\u001b[0m\u001b[0m\n\u001b[0m",
            "\u001b[0;32m<ipython-input-31-db1452323e89>\u001b[0m in \u001b[0;36msend_msg\u001b[0;34m(id_list, return_ex)\u001b[0m\n\u001b[1;32m     10\u001b[0m \u001b[0;32masync\u001b[0m \u001b[0;32mdef\u001b[0m \u001b[0msend_msg\u001b[0m\u001b[0;34m(\u001b[0m\u001b[0mid_list\u001b[0m\u001b[0;34m,\u001b[0m \u001b[0mreturn_ex\u001b[0m \u001b[0;34m=\u001b[0m \u001b[0;32mFalse\u001b[0m\u001b[0;34m)\u001b[0m\u001b[0;34m:\u001b[0m\u001b[0;34m\u001b[0m\u001b[0;34m\u001b[0m\u001b[0m\n\u001b[1;32m     11\u001b[0m     \u001b[0mcoroutines\u001b[0m \u001b[0;34m=\u001b[0m \u001b[0mmap\u001b[0m\u001b[0;34m(\u001b[0m\u001b[0mconnect_to_user\u001b[0m\u001b[0;34m,\u001b[0m \u001b[0mid_list\u001b[0m\u001b[0;34m)\u001b[0m\u001b[0;34m\u001b[0m\u001b[0;34m\u001b[0m\u001b[0m\n\u001b[0;32m---> 12\u001b[0;31m     \u001b[0mresult\u001b[0m \u001b[0;34m=\u001b[0m \u001b[0;32mawait\u001b[0m \u001b[0masyncio\u001b[0m\u001b[0;34m.\u001b[0m\u001b[0mgather\u001b[0m\u001b[0;34m(\u001b[0m\u001b[0;34m*\u001b[0m\u001b[0mcoroutines\u001b[0m\u001b[0;34m,\u001b[0m\u001b[0mreturn_exceptions\u001b[0m\u001b[0;34m=\u001b[0m\u001b[0mreturn_ex\u001b[0m\u001b[0;34m)\u001b[0m\u001b[0;34m\u001b[0m\u001b[0;34m\u001b[0m\u001b[0m\n\u001b[0m\u001b[1;32m     13\u001b[0m     \u001b[0;32mreturn\u001b[0m \u001b[0mresult\u001b[0m\u001b[0;34m\u001b[0m\u001b[0;34m\u001b[0m\u001b[0m\n\u001b[1;32m     14\u001b[0m \u001b[0;34m\u001b[0m\u001b[0m\n",
            "\u001b[0;32m<ipython-input-31-db1452323e89>\u001b[0m in \u001b[0;36mconnect_to_user\u001b[0;34m(usr_id)\u001b[0m\n\u001b[1;32m      2\u001b[0m     \u001b[0mprint\u001b[0m\u001b[0;34m(\u001b[0m\u001b[0;34mf'Подключаюсь к {usr_id}'\u001b[0m\u001b[0;34m)\u001b[0m\u001b[0;34m\u001b[0m\u001b[0;34m\u001b[0m\u001b[0m\n\u001b[1;32m      3\u001b[0m     \u001b[0;32mif\u001b[0m \u001b[0musr_id\u001b[0m \u001b[0;34m==\u001b[0m \u001b[0;36m4\u001b[0m\u001b[0;34m:\u001b[0m\u001b[0;34m\u001b[0m\u001b[0;34m\u001b[0m\u001b[0m\n\u001b[0;32m----> 4\u001b[0;31m         \u001b[0;32mraise\u001b[0m \u001b[0mOSError\u001b[0m\u001b[0;34m(\u001b[0m\u001b[0;34mf'Не могу подключиться к {usr_id}'\u001b[0m\u001b[0;34m)\u001b[0m\u001b[0;34m\u001b[0m\u001b[0;34m\u001b[0m\u001b[0m\n\u001b[0m\u001b[1;32m      5\u001b[0m     \u001b[0;32mawait\u001b[0m \u001b[0masyncio\u001b[0m\u001b[0;34m.\u001b[0m\u001b[0msleep\u001b[0m\u001b[0;34m(\u001b[0m\u001b[0;36m1\u001b[0m\u001b[0;34m)\u001b[0m\u001b[0;34m\u001b[0m\u001b[0;34m\u001b[0m\u001b[0m\n\u001b[1;32m      6\u001b[0m     \u001b[0mprint\u001b[0m\u001b[0;34m(\u001b[0m\u001b[0;34mf'Отправляю команду test пользователю {usr_id}'\u001b[0m\u001b[0;34m)\u001b[0m\u001b[0;34m\u001b[0m\u001b[0;34m\u001b[0m\u001b[0m\n",
            "\u001b[0;31mOSError\u001b[0m: Не могу подключиться к 4"
          ]
        }
      ],
      "source": [
        "async def connect_to_user(usr_id):\n",
        "    print(f'Подключаюсь к {usr_id}')\n",
        "    if usr_id == 4:\n",
        "        raise OSError(f'Не могу подключиться к {usr_id}')\n",
        "    await asyncio.sleep(1)\n",
        "    print(f'Отправляю команду test пользователю {usr_id}')\n",
        "    await asyncio.sleep(1)\n",
        "\n",
        "\n",
        "async def send_msg(id_list, return_ex = False):\n",
        "    coroutines = map(connect_to_user, id_list)\n",
        "    result = await asyncio.gather(*coroutines,return_exceptions=return_ex)\n",
        "    return result\n",
        "\n",
        "await send_msg(id_list, False)"
      ]
    },
    {
      "cell_type": "code",
      "execution_count": null,
      "id": "8b91a02e",
      "metadata": {
        "id": "8b91a02e",
        "colab": {
          "base_uri": "https://localhost:8080/"
        },
        "outputId": "97b73296-9146-49e6-a554-e9d953ff97c9"
      },
      "outputs": [
        {
          "output_type": "stream",
          "name": "stdout",
          "text": [
            "Подключаюсь к 1\n",
            "Подключаюсь к 2\n",
            "Подключаюсь к 3\n",
            "Подключаюсь к 4\n",
            "Отправляю команду test пользователю 1\n",
            "Отправляю команду test пользователю 2\n",
            "Отправляю команду test пользователю 3\n"
          ]
        },
        {
          "output_type": "execute_result",
          "data": {
            "text/plain": [
              "[None, None, None, OSError('Не могу подключиться к 4')]"
            ]
          },
          "metadata": {},
          "execution_count": 32
        }
      ],
      "source": [
        "await send_msg(id_list, True)"
      ]
    },
    {
      "cell_type": "markdown",
      "id": "f63aa92b",
      "metadata": {
        "id": "f63aa92b"
      },
      "source": [
        "Три корутины с usr_id 1, 2 и 3 выполнились успешно и вернули `None` в качестве результата. Это потому, что функция `connect_to_user(usr_id)` не возвращает явно никакого значения, кроме `None`.\n",
        "Четвертая корутина с usr_id 4 вызвала `OSError` и исключение было сохранено в списке результатов."
      ]
    },
    {
      "cell_type": "markdown",
      "id": "0e248a13",
      "metadata": {
        "id": "0e248a13"
      },
      "source": [
        "Теперь пример с использованием `Future` и `gather()` для ожидания нескольких асинхронных операций:"
      ]
    },
    {
      "cell_type": "code",
      "execution_count": null,
      "id": "36883634",
      "metadata": {
        "id": "36883634",
        "colab": {
          "base_uri": "https://localhost:8080/"
        },
        "outputId": "58672a43-a213-47b7-d31d-95775103fed6"
      },
      "outputs": [
        {
          "output_type": "stream",
          "name": "stdout",
          "text": [
            "Операция 0 завершена\n",
            "Операция 1 завершена\n",
            "Операция 2 завершена\n"
          ]
        }
      ],
      "source": [
        "async def slow_operation(num):\n",
        "    await asyncio.sleep(2)\n",
        "    return f\"Операция {num} завершена\"\n",
        "\n",
        "async def main():\n",
        "    futures = [asyncio.ensure_future(slow_operation(i)) for i in range(3)]  # Создание нескольких объектов Future\n",
        "    results = await asyncio.gather(*futures)  # Ожидание завершения всех Future\n",
        "    for result in results:\n",
        "        print(result)\n",
        "await main()"
      ]
    },
    {
      "cell_type": "markdown",
      "id": "2e89c222",
      "metadata": {
        "id": "2e89c222"
      },
      "source": [
        "### Функция `shield`"
      ]
    },
    {
      "cell_type": "markdown",
      "id": "ed68aca3",
      "metadata": {
        "id": "ed68aca3"
      },
      "source": [
        "Представьте, что у вас есть асинхронная функция, которая выполняет важную задачу: отправку критической команды на удаленное устройство. Вы не хотите, чтобы эта задача была отменена, даже если другие части программы пытаются отменить выполнение. В таком случае в `asyncio` есть функция `shield`, которая защищает задачи от отмены методом `Task.cancel()`:"
      ]
    },
    {
      "cell_type": "code",
      "execution_count": null,
      "id": "c8a0b085",
      "metadata": {
        "id": "c8a0b085",
        "colab": {
          "base_uri": "https://localhost:8080/"
        },
        "outputId": "3244351b-5a7e-4da5-df5d-35a3c79958e7"
      },
      "outputs": [
        {
          "output_type": "stream",
          "name": "stdout",
          "text": [
            "Старт задачи...\n",
            "Отмена!\n",
            "А что со мной хотели сделать?\n"
          ]
        }
      ],
      "source": [
        "async def start_task():\n",
        "    print('Старт задачи...')\n",
        "    await asyncio.sleep(2)\n",
        "    print('А что со мной хотели сделать?')\n",
        "\n",
        "\n",
        "async def cancel(some_task):\n",
        "    await asyncio.sleep(0.5)\n",
        "    some_task.cancel()\n",
        "    print('Отмена!')\n",
        "\n",
        "\n",
        "async def main():\n",
        "    real_task = asyncio.create_task(start_task())\n",
        "    shield = asyncio.shield(real_task)\n",
        "    asyncio.create_task(cancel(shield))\n",
        "    await real_task\n",
        "\n",
        "\n",
        "await main()"
      ]
    },
    {
      "cell_type": "markdown",
      "id": "17a953b9",
      "metadata": {
        "id": "17a953b9"
      },
      "source": [
        "### Функция `wait_for`"
      ]
    },
    {
      "cell_type": "markdown",
      "id": "9b381b13",
      "metadata": {
        "id": "9b381b13"
      },
      "source": [
        "Следит за тем, чтобы корутина не выполнялась больше заданного времени. Если истекает таймаут, то отменяет задачу и бросает `TimeoutError`."
      ]
    },
    {
      "cell_type": "markdown",
      "source": [
        "Если необходимо избежать отмены задачи, то лучше обренуть в `shield()`."
      ],
      "metadata": {
        "id": "9cYN_ha1SAfq"
      },
      "id": "9cYN_ha1SAfq"
    },
    {
      "cell_type": "code",
      "execution_count": null,
      "id": "c4db378c",
      "metadata": {
        "id": "c4db378c",
        "colab": {
          "base_uri": "https://localhost:8080/"
        },
        "outputId": "c2e2ccfb-6559-4cbc-e0cb-4236cf9269bb"
      },
      "outputs": [
        {
          "output_type": "stream",
          "name": "stdout",
          "text": [
            "Какая-то не очень быстрая ...\n"
          ]
        }
      ],
      "source": [
        "async def fast_func():\n",
        "    await asyncio.sleep(360)\n",
        "    print('Да не долго я работаю')\n",
        "\n",
        "\n",
        "async def main():\n",
        "    try:\n",
        "        await asyncio.wait_for(fast_func(), timeout=5.0)\n",
        "    except asyncio.TimeoutError:\n",
        "        print('Какая-то не очень быстрая ...')\n",
        "\n",
        "await main()"
      ]
    },
    {
      "cell_type": "code",
      "execution_count": null,
      "id": "2aae070c",
      "metadata": {
        "id": "2aae070c",
        "colab": {
          "base_uri": "https://localhost:8080/"
        },
        "outputId": "1bc61f67-0989-4d59-e45b-8806e34b0ec6"
      },
      "outputs": [
        {
          "output_type": "stream",
          "name": "stdout",
          "text": [
            "Отправка сообщения 'Привет!' пользователю 123\n",
            "Время ожидания ответа от пользователя 123 истекло\n"
          ]
        }
      ],
      "source": [
        "async def send_message(user_id, message):\n",
        "    print(f\"Отправка сообщения '{message}' пользователю {user_id}\")\n",
        "    await asyncio.sleep(5)\n",
        "    print(f\"Сообщение '{message}' доставлено пользователю {user_id}\")\n",
        "\n",
        "\n",
        "async def receive_message(user_id):\n",
        "    try:\n",
        "        await asyncio.wait_for(send_message(user_id, \"Привет!\"), timeout=3)\n",
        "        print(f\"Получен ответ: Привет!\")\n",
        "    except asyncio.TimeoutError:\n",
        "        print(f\"Время ожидания ответа от пользователя {user_id} истекло\")\n",
        "\n",
        "async def main():\n",
        "    user_id = 123\n",
        "    await receive_message(user_id)\n",
        "\n",
        "\n",
        "await main()"
      ]
    },
    {
      "cell_type": "code",
      "execution_count": null,
      "id": "2d77ff03",
      "metadata": {
        "id": "2d77ff03",
        "colab": {
          "base_uri": "https://localhost:8080/",
          "height": 315
        },
        "outputId": "18a41f1b-ab8c-4e3b-db50-8168d762579a"
      },
      "outputs": [
        {
          "output_type": "stream",
          "name": "stdout",
          "text": [
            "Начало отправки важного сообщения\n"
          ]
        },
        {
          "output_type": "error",
          "ename": "CancelledError",
          "evalue": "",
          "traceback": [
            "\u001b[0;31m---------------------------------------------------------------------------\u001b[0m",
            "\u001b[0;31mCancelledError\u001b[0m                            Traceback (most recent call last)",
            "\u001b[0;32m<ipython-input-46-ce25f28733ae>\u001b[0m in \u001b[0;36m<cell line: 18>\u001b[0;34m()\u001b[0m\n\u001b[1;32m     16\u001b[0m \u001b[0;34m\u001b[0m\u001b[0m\n\u001b[1;32m     17\u001b[0m \u001b[0;34m\u001b[0m\u001b[0m\n\u001b[0;32m---> 18\u001b[0;31m \u001b[0;32mawait\u001b[0m \u001b[0mmain\u001b[0m\u001b[0;34m(\u001b[0m\u001b[0;34m)\u001b[0m\u001b[0;34m\u001b[0m\u001b[0;34m\u001b[0m\u001b[0m\n\u001b[0m",
            "\u001b[0;32m<ipython-input-46-ce25f28733ae>\u001b[0m in \u001b[0;36mmain\u001b[0;34m()\u001b[0m\n\u001b[1;32m     10\u001b[0m         \u001b[0mtask\u001b[0m\u001b[0;34m.\u001b[0m\u001b[0mcancel\u001b[0m\u001b[0;34m(\u001b[0m\u001b[0;34m)\u001b[0m\u001b[0;34m\u001b[0m\u001b[0;34m\u001b[0m\u001b[0m\n\u001b[1;32m     11\u001b[0m         \u001b[0;31m# Здесь используем shield() для гарантированной отправки важного сообщения\u001b[0m\u001b[0;34m\u001b[0m\u001b[0;34m\u001b[0m\u001b[0m\n\u001b[0;32m---> 12\u001b[0;31m         \u001b[0;32mawait\u001b[0m \u001b[0masyncio\u001b[0m\u001b[0;34m.\u001b[0m\u001b[0mshield\u001b[0m\u001b[0;34m(\u001b[0m\u001b[0masyncio\u001b[0m\u001b[0;34m.\u001b[0m\u001b[0mwait_for\u001b[0m\u001b[0;34m(\u001b[0m\u001b[0mtask\u001b[0m\u001b[0;34m,\u001b[0m \u001b[0mtimeout\u001b[0m\u001b[0;34m=\u001b[0m\u001b[0;36m5\u001b[0m\u001b[0;34m)\u001b[0m\u001b[0;34m)\u001b[0m\u001b[0;34m\u001b[0m\u001b[0;34m\u001b[0m\u001b[0m\n\u001b[0m\u001b[1;32m     13\u001b[0m         \u001b[0mprint\u001b[0m\u001b[0;34m(\u001b[0m\u001b[0;34m\"Отправлено!\"\u001b[0m\u001b[0;34m)\u001b[0m\u001b[0;34m\u001b[0m\u001b[0;34m\u001b[0m\u001b[0m\n\u001b[1;32m     14\u001b[0m     \u001b[0;32mexcept\u001b[0m \u001b[0masyncio\u001b[0m\u001b[0;34m.\u001b[0m\u001b[0mTimeoutError\u001b[0m\u001b[0;34m:\u001b[0m\u001b[0;34m\u001b[0m\u001b[0;34m\u001b[0m\u001b[0m\n",
            "\u001b[0;31mCancelledError\u001b[0m: "
          ]
        }
      ],
      "source": [
        "async def send_important_message():\n",
        "    print(\"Начало отправки важного сообщения\")\n",
        "    await asyncio.sleep(7)\n",
        "\n",
        "\n",
        "async def main():\n",
        "    task = asyncio.create_task(send_important_message())\n",
        "    try:\n",
        "        await asyncio.sleep(5)\n",
        "        task.cancel()\n",
        "        # Здесь используем shield() для гарантированной отправки важного сообщения\n",
        "        await asyncio.shield(asyncio.wait_for(task, timeout=5))\n",
        "        print(\"Отправлено!\")\n",
        "    except asyncio.TimeoutError:\n",
        "        print(\"Время на отправку важного сообщения истекло\")\n",
        "\n",
        "\n",
        "await main()"
      ]
    },
    {
      "cell_type": "markdown",
      "id": "66c023cd",
      "metadata": {
        "id": "66c023cd"
      },
      "source": [
        "### Функция `wait`"
      ]
    },
    {
      "cell_type": "markdown",
      "id": "ba958f19",
      "metadata": {
        "id": "ba958f19"
      },
      "source": [
        "Выполняет корутины до таймаута или до параметра функции `return_when`.\n",
        "\n",
        "Возваращает 2 множества корутин: выполненных и нет."
      ]
    },
    {
      "cell_type": "markdown",
      "id": "bdea1e08",
      "metadata": {
        "id": "bdea1e08"
      },
      "source": [
        "Параметр `return_when` в методе `wait()` определяет, когда метод должен вернуть результат в зависимости от состояния задач. `return_when` является одним из значений перечисления `asyncio.ReturnWhen`, и у него есть следующие возможные значения:\n",
        "\n",
        "- `FIRST_COMPLETED`: Метод вернет управление, когда хотя бы одна задача из переданного множества завершится (успешно или с исключением).\n",
        "\n",
        "- `FIRST_EXCEPTION`: Метод вернет управление, когда произойдет первое исключение в задаче. Это может быть полезно, если вы хотите получить первое исключение из множества задач.\n",
        "\n",
        "- `ALL_COMPLETED` (по умолчанию): Метод вернет управление, когда все задачи из переданного множества завершатся (успешно или с исключением)."
      ]
    },
    {
      "cell_type": "code",
      "execution_count": null,
      "id": "6c07a068",
      "metadata": {
        "id": "6c07a068",
        "colab": {
          "base_uri": "https://localhost:8080/"
        },
        "outputId": "a41fae09-73b1-4ef7-85fa-d16b835fa3d4"
      },
      "outputs": [
        {
          "output_type": "stream",
          "name": "stdout",
          "text": [
            "hello ...\n",
            "{<Task finished name='Task-104' coro=<foo() done, defined at <ipython-input-47-44f6b0987f59>:1> result=None>}\n",
            "{<Task pending name='Task-105' coro=<bar() running at <ipython-input-47-44f6b0987f59>:7> wait_for=<Future pending cb=[Task.task_wakeup()]>>}\n"
          ]
        }
      ],
      "source": [
        "async def foo():\n",
        "    await asyncio.sleep(1)\n",
        "    print('hello ...')\n",
        "\n",
        "\n",
        "async def bar():\n",
        "    await asyncio.sleep(2)\n",
        "    print('... world!')\n",
        "\n",
        "\n",
        "print_hello = asyncio.create_task(foo())\n",
        "print_world = asyncio.create_task(bar())\n",
        "\n",
        "done, pending = await asyncio.wait({print_hello,print_world}, return_when=asyncio.FIRST_COMPLETED)\n",
        "\n",
        "print(done)\n",
        "print(pending)"
      ]
    },
    {
      "cell_type": "code",
      "execution_count": null,
      "id": "548d4836",
      "metadata": {
        "id": "548d4836",
        "colab": {
          "base_uri": "https://localhost:8080/"
        },
        "outputId": "7bd2ec11-03bb-43f9-c86c-34ca39cd2bce"
      },
      "outputs": [
        {
          "output_type": "stream",
          "name": "stdout",
          "text": [
            "hello ...\n",
            "{<Task finished name='Task-107' coro=<foo() done, defined at <ipython-input-47-44f6b0987f59>:1> result=None>}\n",
            "{<Task pending name='Task-108' coro=<bar() running at <ipython-input-47-44f6b0987f59>:7> wait_for=<Future pending cb=[Task.task_wakeup()]>>}\n"
          ]
        }
      ],
      "source": [
        "print_hello = asyncio.create_task(foo())\n",
        "print_world = asyncio.create_task(bar())\n",
        "\n",
        "done, pending = await asyncio.wait({print_hello,print_world}, timeout=1.5)\n",
        "\n",
        "print(done)\n",
        "print(pending)"
      ]
    },
    {
      "cell_type": "code",
      "execution_count": null,
      "id": "d15d08d7",
      "metadata": {
        "id": "d15d08d7",
        "colab": {
          "base_uri": "https://localhost:8080/"
        },
        "outputId": "fb2af4ff-656e-41b6-cd81-2b61fa8f2010"
      },
      "outputs": [
        {
          "output_type": "stream",
          "name": "stdout",
          "text": [
            "hello ...\n",
            "... world!\n",
            "{<Task finished name='Task-110' coro=<foo() done, defined at <ipython-input-47-44f6b0987f59>:1> result=None>, <Task finished name='Task-111' coro=<bar() done, defined at <ipython-input-47-44f6b0987f59>:6> result=None>}\n",
            "set()\n"
          ]
        }
      ],
      "source": [
        "print_hello = asyncio.create_task(foo())\n",
        "print_world = asyncio.create_task(bar())\n",
        "\n",
        "done, pending = await asyncio.wait({print_hello,print_world}, return_when=asyncio.ALL_COMPLETED)\n",
        "\n",
        "print(done)\n",
        "print(pending)"
      ]
    },
    {
      "cell_type": "markdown",
      "id": "b160a2f0",
      "metadata": {
        "id": "b160a2f0"
      },
      "source": [
        "**Замечание** - `wait` в отличии от `wait_for` не отменяет задачи."
      ]
    },
    {
      "cell_type": "code",
      "execution_count": null,
      "id": "9e5cb5e0",
      "metadata": {
        "id": "9e5cb5e0",
        "colab": {
          "base_uri": "https://localhost:8080/"
        },
        "outputId": "fe5feb8d-88be-416c-f54b-b509a969cf97"
      },
      "outputs": [
        {
          "output_type": "stream",
          "name": "stdout",
          "text": [
            "Задача 1 завершилась\n",
            "Завершилась задача: Task-113\n"
          ]
        },
        {
          "output_type": "stream",
          "name": "stderr",
          "text": [
            "ERROR:asyncio:Task exception was never retrieved\n",
            "future: <Task finished name='Task-114' coro=<task2() done, defined at <ipython-input-50-ad6167489986>:6> exception=ValueError('Исключение в задаче 2')>\n",
            "Traceback (most recent call last):\n",
            "  File \"<ipython-input-50-ad6167489986>\", line 8, in task2\n",
            "    raise ValueError(\"Исключение в задаче 2\")\n",
            "ValueError: Исключение в задаче 2\n"
          ]
        }
      ],
      "source": [
        "async def task1():\n",
        "    await asyncio.sleep(2)\n",
        "    print(\"Задача 1 завершилась\")\n",
        "\n",
        "\n",
        "async def task2():\n",
        "    await asyncio.sleep(3)\n",
        "    raise ValueError(\"Исключение в задаче 2\")\n",
        "\n",
        "\n",
        "async def main():\n",
        "    tasks = {asyncio.create_task(task1()), asyncio.create_task(task2())}\n",
        "\n",
        "    # Вернуть управление после первой завершившейся задачи\n",
        "    done, _ = await asyncio.wait(tasks, return_when=asyncio.FIRST_COMPLETED)\n",
        "    for task in done:\n",
        "        print(f\"Завершилась задача: {task.get_name()}\")\n",
        "\n",
        "    # Вернуть управление после первого исключения\n",
        "    _, exceptions = await asyncio.wait(tasks, return_when=asyncio.FIRST_EXCEPTION)\n",
        "    for task, exception in exceptions:\n",
        "        print(f\"Исключение в задаче: {task.get_name()}, {exception}\")\n",
        "\n",
        "\n",
        "await main()"
      ]
    },
    {
      "cell_type": "markdown",
      "source": [
        "## Проблемы"
      ],
      "metadata": {
        "id": "LSTxd-2rSkv8"
      },
      "id": "LSTxd-2rSkv8"
    },
    {
      "cell_type": "markdown",
      "id": "2f19cf56",
      "metadata": {
        "id": "2f19cf56"
      },
      "source": [
        "Давайте рассмотрим какие проблемы часто возникают при многопоточном/асинхронном программировании"
      ]
    },
    {
      "cell_type": "markdown",
      "id": "27e09971",
      "metadata": {
        "id": "27e09971"
      },
      "source": [
        "1) Состояние гонки (**race condition**) возникает, когда два или более потока одновременно пытаются получить доступ к общей переменной."
      ]
    },
    {
      "cell_type": "markdown",
      "id": "1c9d6e44",
      "metadata": {
        "id": "1c9d6e44"
      },
      "source": [
        "2) Взаимная блокировка(**deadlock**) - ситуация, в которой один или несколько потоков ожидают события, которое никогда не произойдет. Наиболее распространенная ситуация - это когда каждый из двух потоков удерживает объект синхронизации, который нужен другому потоку, и у одного потока нет возможности освободить объект, который он удерживает, чтобы позволить другому потоку продолжить работу."
      ]
    },
    {
      "cell_type": "markdown",
      "source": [
        "### Race Condition"
      ],
      "metadata": {
        "id": "q6gQv1pwSosh"
      },
      "id": "q6gQv1pwSosh"
    },
    {
      "cell_type": "markdown",
      "id": "82808d87",
      "metadata": {
        "id": "82808d87"
      },
      "source": [
        "Рассмотрим такой пример на `race condition`:"
      ]
    },
    {
      "cell_type": "code",
      "execution_count": null,
      "id": "1359551d",
      "metadata": {
        "id": "1359551d",
        "colab": {
          "base_uri": "https://localhost:8080/"
        },
        "outputId": "d100a99e-e71f-48cd-f0c2-c20bfb3d0026"
      },
      "outputs": [
        {
          "output_type": "stream",
          "name": "stdout",
          "text": [
            "10000\n"
          ]
        }
      ],
      "source": [
        "async def increment_counter():\n",
        "    global counter\n",
        "    current = counter\n",
        "    await asyncio.sleep(0)\n",
        "    current += 1\n",
        "    await asyncio.sleep(0)\n",
        "    counter = current\n",
        "\n",
        "\n",
        "async def main():\n",
        "    global counter\n",
        "    counter = 0\n",
        "    coroutines = [increment_counter() for _ in range(10000)] # создаем корутины для обновления counter\n",
        "    await asyncio.gather(*coroutines) # запускаем их\n",
        "    print(counter)\n",
        "\n",
        "\n",
        "await main()"
      ]
    },
    {
      "cell_type": "markdown",
      "id": "23a93c26",
      "metadata": {
        "id": "23a93c26"
      },
      "source": [
        "Казалось мы должны были получить в результате 10000 (количетсов корутин), т.к каждая корутина должна была заинкрементить `counter` на 1. Но на выходе получили 1."
      ]
    },
    {
      "cell_type": "markdown",
      "source": [
        "Давайте разберемся почему так получилось:\n",
        "- Мы могли бы ожидать, что каждая корутина будет выполняться как атомарный блок, но этого не произошло.\n",
        "- Каждая корутина приостанавливалась (как переключение контекста) два раза: один раз после копирования `counter` и один раз после увеличения `current`.\n",
        "- Первая корутина запускается и приостанавливается в первой точке, вторая корутина запускается и приостанавливается в первой точке и так далее. Это продолжается для всех 10 000 корутин.\n",
        "- Все они скопировали текущее значение `counter`, равное нулю, в `current`.\n",
        "- Первая корутина возобновляет работу и увеличивает `current` с нуля до единицы, а затем приостанавливает выполнение. Вторая корутина выполняет то же самое, и так далее для всех 10 000 корутин.\n",
        "- Все они имеют значение единицы в своих временных переменных.\n",
        "Наконец, первая корутина копирует `current` в `counter`. Вторая корутина выполняет то же самое и так далее для всех 10 000 корутин.\n",
        "- `counter` каждый раз устанавливается равной единице."
      ],
      "metadata": {
        "id": "7qapir5MS3Vm"
      },
      "id": "7qapir5MS3Vm"
    },
    {
      "cell_type": "markdown",
      "id": "245c2c95",
      "metadata": {
        "id": "245c2c95"
      },
      "source": [
        "Для предотвращения гонки данных в нашем примере можно использовать один из примитивов синхронизации - мьютекс (`asyncio.Lock`):"
      ]
    },
    {
      "cell_type": "code",
      "execution_count": null,
      "id": "aafdd343",
      "metadata": {
        "id": "aafdd343",
        "colab": {
          "base_uri": "https://localhost:8080/"
        },
        "outputId": "ab53b911-b33c-44db-8d91-37a463f016fa"
      },
      "outputs": [
        {
          "output_type": "stream",
          "name": "stdout",
          "text": [
            "10000\n"
          ]
        }
      ],
      "source": [
        "async def increment_counter(lock):\n",
        "    global counter\n",
        "    async with lock:\n",
        "        current = counter\n",
        "        await asyncio.sleep(0)\n",
        "        current += 1\n",
        "        await asyncio.sleep(0)\n",
        "        counter = current\n",
        "\n",
        "\n",
        "async def main():\n",
        "    global counter\n",
        "    counter = 0\n",
        "    lock = asyncio.Lock()\n",
        "    coroutines = [increment_counter(lock) for _ in range(10000)]  # создаем корутины для обновления counter\n",
        "    await asyncio.gather(*coroutines)  # запускаем их\n",
        "    print(counter)\n",
        "\n",
        "\n",
        "await main()"
      ]
    },
    {
      "cell_type": "markdown",
      "id": "f824d9a3",
      "metadata": {
        "id": "f824d9a3"
      },
      "source": [
        "Теперь видим, что у нас код правильно работает. Каждая корутина перед обновлением `counter` захватывает мьютекс с помощью оператора `async with`, что предотвращает гонку данных."
      ]
    },
    {
      "cell_type": "markdown",
      "id": "8c9dcf64",
      "metadata": {
        "id": "8c9dcf64"
      },
      "source": [
        "**Рекомендую** ознакомиться с этой замечательной [статьей](https://habr.com/ru/articles/767792/) на Хабре о примитивах синхронизации в Python."
      ]
    },
    {
      "cell_type": "markdown",
      "source": [
        "### Deadlock"
      ],
      "metadata": {
        "id": "Ojnqi89eTQi9"
      },
      "id": "Ojnqi89eTQi9"
    },
    {
      "cell_type": "markdown",
      "id": "d91b8ab9",
      "metadata": {
        "id": "d91b8ab9"
      },
      "source": [
        "Теперь давайте рассмотрим несколько примеров с `deadlock`:"
      ]
    },
    {
      "cell_type": "markdown",
      "id": "1b86b482",
      "metadata": {
        "id": "1b86b482"
      },
      "source": [
        "Пример с одной корутиной:"
      ]
    },
    {
      "cell_type": "code",
      "execution_count": null,
      "id": "31c32566",
      "metadata": {
        "id": "31c32566",
        "colab": {
          "base_uri": "https://localhost:8080/",
          "height": 356
        },
        "outputId": "19243771-abdc-4b88-8af3-b1c7b45371dc"
      },
      "outputs": [
        {
          "output_type": "stream",
          "name": "stdout",
          "text": [
            "Task acquiring lock...\n",
            "Task acquiring lock again...\n"
          ]
        },
        {
          "output_type": "error",
          "ename": "CancelledError",
          "evalue": "",
          "traceback": [
            "\u001b[0;31m---------------------------------------------------------------------------\u001b[0m",
            "\u001b[0;31mCancelledError\u001b[0m                            Traceback (most recent call last)",
            "\u001b[0;32m<ipython-input-54-82f2a98752af>\u001b[0m in \u001b[0;36m<cell line: 18>\u001b[0;34m()\u001b[0m\n\u001b[1;32m     16\u001b[0m \u001b[0;34m\u001b[0m\u001b[0m\n\u001b[1;32m     17\u001b[0m \u001b[0;34m\u001b[0m\u001b[0m\n\u001b[0;32m---> 18\u001b[0;31m \u001b[0;32mawait\u001b[0m \u001b[0mmain\u001b[0m\u001b[0;34m(\u001b[0m\u001b[0;34m)\u001b[0m\u001b[0;34m\u001b[0m\u001b[0;34m\u001b[0m\u001b[0m\n\u001b[0m",
            "\u001b[0;32m<ipython-input-54-82f2a98752af>\u001b[0m in \u001b[0;36mmain\u001b[0;34m()\u001b[0m\n\u001b[1;32m     13\u001b[0m     \u001b[0mlock\u001b[0m \u001b[0;34m=\u001b[0m \u001b[0masyncio\u001b[0m\u001b[0;34m.\u001b[0m\u001b[0mLock\u001b[0m\u001b[0;34m(\u001b[0m\u001b[0;34m)\u001b[0m\u001b[0;34m\u001b[0m\u001b[0;34m\u001b[0m\u001b[0m\n\u001b[1;32m     14\u001b[0m     \u001b[0;31m# execute and await the coroutine\u001b[0m\u001b[0;34m\u001b[0m\u001b[0;34m\u001b[0m\u001b[0m\n\u001b[0;32m---> 15\u001b[0;31m     \u001b[0;32mawait\u001b[0m \u001b[0mtask\u001b[0m\u001b[0;34m(\u001b[0m\u001b[0mlock\u001b[0m\u001b[0;34m)\u001b[0m\u001b[0;34m\u001b[0m\u001b[0;34m\u001b[0m\u001b[0m\n\u001b[0m\u001b[1;32m     16\u001b[0m \u001b[0;34m\u001b[0m\u001b[0m\n\u001b[1;32m     17\u001b[0m \u001b[0;34m\u001b[0m\u001b[0m\n",
            "\u001b[0;32m<ipython-input-54-82f2a98752af>\u001b[0m in \u001b[0;36mtask\u001b[0;34m(lock)\u001b[0m\n\u001b[1;32m      5\u001b[0m         \u001b[0mprint\u001b[0m\u001b[0;34m(\u001b[0m\u001b[0;34m'Task acquiring lock again...'\u001b[0m\u001b[0;34m)\u001b[0m\u001b[0;34m\u001b[0m\u001b[0;34m\u001b[0m\u001b[0m\n\u001b[1;32m      6\u001b[0m         \u001b[0;31m# acquire the lock\u001b[0m\u001b[0;34m\u001b[0m\u001b[0;34m\u001b[0m\u001b[0m\n\u001b[0;32m----> 7\u001b[0;31m         \u001b[0;32masync\u001b[0m \u001b[0;32mwith\u001b[0m \u001b[0mlock\u001b[0m\u001b[0;34m:\u001b[0m\u001b[0;34m\u001b[0m\u001b[0;34m\u001b[0m\u001b[0m\n\u001b[0m\u001b[1;32m      8\u001b[0m             \u001b[0;31m# will never get here\u001b[0m\u001b[0;34m\u001b[0m\u001b[0;34m\u001b[0m\u001b[0m\n\u001b[1;32m      9\u001b[0m             \u001b[0;32mpass\u001b[0m\u001b[0;34m\u001b[0m\u001b[0;34m\u001b[0m\u001b[0m\n",
            "\u001b[0;32m/usr/lib/python3.10/asyncio/locks.py\u001b[0m in \u001b[0;36m__aenter__\u001b[0;34m(self)\u001b[0m\n\u001b[1;32m     12\u001b[0m \u001b[0;32mclass\u001b[0m \u001b[0m_ContextManagerMixin\u001b[0m\u001b[0;34m:\u001b[0m\u001b[0;34m\u001b[0m\u001b[0;34m\u001b[0m\u001b[0m\n\u001b[1;32m     13\u001b[0m     \u001b[0;32masync\u001b[0m \u001b[0;32mdef\u001b[0m \u001b[0m__aenter__\u001b[0m\u001b[0;34m(\u001b[0m\u001b[0mself\u001b[0m\u001b[0;34m)\u001b[0m\u001b[0;34m:\u001b[0m\u001b[0;34m\u001b[0m\u001b[0;34m\u001b[0m\u001b[0m\n\u001b[0;32m---> 14\u001b[0;31m         \u001b[0;32mawait\u001b[0m \u001b[0mself\u001b[0m\u001b[0;34m.\u001b[0m\u001b[0macquire\u001b[0m\u001b[0;34m(\u001b[0m\u001b[0;34m)\u001b[0m\u001b[0;34m\u001b[0m\u001b[0;34m\u001b[0m\u001b[0m\n\u001b[0m\u001b[1;32m     15\u001b[0m         \u001b[0;31m# We have no use for the \"as ...\"  clause in the with\u001b[0m\u001b[0;34m\u001b[0m\u001b[0;34m\u001b[0m\u001b[0m\n\u001b[1;32m     16\u001b[0m         \u001b[0;31m# statement for locks.\u001b[0m\u001b[0;34m\u001b[0m\u001b[0;34m\u001b[0m\u001b[0m\n",
            "\u001b[0;32m/usr/lib/python3.10/asyncio/locks.py\u001b[0m in \u001b[0;36macquire\u001b[0;34m(self)\u001b[0m\n\u001b[1;32m    112\u001b[0m         \u001b[0;32mtry\u001b[0m\u001b[0;34m:\u001b[0m\u001b[0;34m\u001b[0m\u001b[0;34m\u001b[0m\u001b[0m\n\u001b[1;32m    113\u001b[0m             \u001b[0;32mtry\u001b[0m\u001b[0;34m:\u001b[0m\u001b[0;34m\u001b[0m\u001b[0;34m\u001b[0m\u001b[0m\n\u001b[0;32m--> 114\u001b[0;31m                 \u001b[0;32mawait\u001b[0m \u001b[0mfut\u001b[0m\u001b[0;34m\u001b[0m\u001b[0;34m\u001b[0m\u001b[0m\n\u001b[0m\u001b[1;32m    115\u001b[0m             \u001b[0;32mfinally\u001b[0m\u001b[0;34m:\u001b[0m\u001b[0;34m\u001b[0m\u001b[0;34m\u001b[0m\u001b[0m\n\u001b[1;32m    116\u001b[0m                 \u001b[0mself\u001b[0m\u001b[0;34m.\u001b[0m\u001b[0m_waiters\u001b[0m\u001b[0;34m.\u001b[0m\u001b[0mremove\u001b[0m\u001b[0;34m(\u001b[0m\u001b[0mfut\u001b[0m\u001b[0;34m)\u001b[0m\u001b[0;34m\u001b[0m\u001b[0;34m\u001b[0m\u001b[0m\n",
            "\u001b[0;31mCancelledError\u001b[0m: "
          ]
        }
      ],
      "source": [
        "async def task(lock):\n",
        "    print('Task acquiring lock...')\n",
        "    # acquire the lock\n",
        "    async with lock:\n",
        "        print('Task acquiring lock again...')\n",
        "        # acquire the lock\n",
        "        async with lock:\n",
        "            # will never get here\n",
        "            pass\n",
        "\n",
        "async def main():\n",
        "    # create the shared lock\n",
        "    lock = asyncio.Lock()\n",
        "    # execute and await the coroutine\n",
        "    await task(lock)\n",
        "\n",
        "\n",
        "await main()"
      ]
    },
    {
      "cell_type": "markdown",
      "id": "48c47be0",
      "metadata": {
        "id": "48c47be0"
      },
      "source": [
        "В приведенном примере возможен deadlock, поскольку корутина `task()` пытается дважды захватить один и тот же асинхронный мьютекс."
      ]
    },
    {
      "cell_type": "markdown",
      "id": "f1ec7bdd",
      "metadata": {
        "id": "f1ec7bdd"
      },
      "source": [
        "Пример с несколькими корутинами:"
      ]
    },
    {
      "cell_type": "code",
      "execution_count": null,
      "id": "9ced4a26",
      "metadata": {
        "id": "9ced4a26",
        "colab": {
          "base_uri": "https://localhost:8080/",
          "height": 478
        },
        "outputId": "f14954d7-9e99-453d-ff64-2d6f0f2b50fb"
      },
      "outputs": [
        {
          "output_type": "stream",
          "name": "stdout",
          "text": [
            "Task 1 acquiring lock 1...\n",
            "Task 2 acquiring lock 1...\n",
            "Task 1 acquiring lock 2...\n",
            "Task 2 acquiring lock 2...\n"
          ]
        },
        {
          "output_type": "error",
          "ename": "CancelledError",
          "evalue": "",
          "traceback": [
            "\u001b[0;31m---------------------------------------------------------------------------\u001b[0m",
            "\u001b[0;31mCancelledError\u001b[0m                            Traceback (most recent call last)",
            "\u001b[0;32m<ipython-input-55-29c5d191ac3e>\u001b[0m in \u001b[0;36mtask\u001b[0;34m(number, lock1, lock2)\u001b[0m\n\u001b[1;32m      5\u001b[0m         \u001b[0mprint\u001b[0m\u001b[0;34m(\u001b[0m\u001b[0;34mf'Task {number} acquiring lock 2...'\u001b[0m\u001b[0;34m)\u001b[0m\u001b[0;34m\u001b[0m\u001b[0;34m\u001b[0m\u001b[0m\n\u001b[0;32m----> 6\u001b[0;31m         \u001b[0;32masync\u001b[0m \u001b[0;32mwith\u001b[0m \u001b[0mlock2\u001b[0m\u001b[0;34m:\u001b[0m\u001b[0;34m\u001b[0m\u001b[0;34m\u001b[0m\u001b[0m\n\u001b[0m\u001b[1;32m      7\u001b[0m             \u001b[0;32mpass\u001b[0m\u001b[0;34m\u001b[0m\u001b[0;34m\u001b[0m\u001b[0m\n",
            "\u001b[0;32m/usr/lib/python3.10/asyncio/locks.py\u001b[0m in \u001b[0;36m__aenter__\u001b[0;34m(self)\u001b[0m\n\u001b[1;32m     13\u001b[0m     \u001b[0;32masync\u001b[0m \u001b[0;32mdef\u001b[0m \u001b[0m__aenter__\u001b[0m\u001b[0;34m(\u001b[0m\u001b[0mself\u001b[0m\u001b[0;34m)\u001b[0m\u001b[0;34m:\u001b[0m\u001b[0;34m\u001b[0m\u001b[0;34m\u001b[0m\u001b[0m\n\u001b[0;32m---> 14\u001b[0;31m         \u001b[0;32mawait\u001b[0m \u001b[0mself\u001b[0m\u001b[0;34m.\u001b[0m\u001b[0macquire\u001b[0m\u001b[0;34m(\u001b[0m\u001b[0;34m)\u001b[0m\u001b[0;34m\u001b[0m\u001b[0;34m\u001b[0m\u001b[0m\n\u001b[0m\u001b[1;32m     15\u001b[0m         \u001b[0;31m# We have no use for the \"as ...\"  clause in the with\u001b[0m\u001b[0;34m\u001b[0m\u001b[0;34m\u001b[0m\u001b[0m\n",
            "\u001b[0;32m/usr/lib/python3.10/asyncio/locks.py\u001b[0m in \u001b[0;36macquire\u001b[0;34m(self)\u001b[0m\n\u001b[1;32m    113\u001b[0m             \u001b[0;32mtry\u001b[0m\u001b[0;34m:\u001b[0m\u001b[0;34m\u001b[0m\u001b[0;34m\u001b[0m\u001b[0m\n\u001b[0;32m--> 114\u001b[0;31m                 \u001b[0;32mawait\u001b[0m \u001b[0mfut\u001b[0m\u001b[0;34m\u001b[0m\u001b[0;34m\u001b[0m\u001b[0m\n\u001b[0m\u001b[1;32m    115\u001b[0m             \u001b[0;32mfinally\u001b[0m\u001b[0;34m:\u001b[0m\u001b[0;34m\u001b[0m\u001b[0;34m\u001b[0m\u001b[0m\n",
            "\u001b[0;31mCancelledError\u001b[0m: ",
            "\nDuring handling of the above exception, another exception occurred:\n",
            "\u001b[0;31mCancelledError\u001b[0m                            Traceback (most recent call last)",
            "\u001b[0;32m<ipython-input-55-29c5d191ac3e>\u001b[0m in \u001b[0;36m<cell line: 17>\u001b[0;34m()\u001b[0m\n\u001b[1;32m     15\u001b[0m     \u001b[0;32mawait\u001b[0m \u001b[0masyncio\u001b[0m\u001b[0;34m.\u001b[0m\u001b[0mgather\u001b[0m\u001b[0;34m(\u001b[0m\u001b[0mcoro1\u001b[0m\u001b[0;34m,\u001b[0m \u001b[0mcoro2\u001b[0m\u001b[0;34m)\u001b[0m\u001b[0;34m\u001b[0m\u001b[0;34m\u001b[0m\u001b[0m\n\u001b[1;32m     16\u001b[0m \u001b[0;34m\u001b[0m\u001b[0m\n\u001b[0;32m---> 17\u001b[0;31m \u001b[0;32mawait\u001b[0m \u001b[0mmain\u001b[0m\u001b[0;34m(\u001b[0m\u001b[0;34m)\u001b[0m\u001b[0;34m\u001b[0m\u001b[0;34m\u001b[0m\u001b[0m\n\u001b[0m",
            "\u001b[0;32m<ipython-input-55-29c5d191ac3e>\u001b[0m in \u001b[0;36mmain\u001b[0;34m()\u001b[0m\n\u001b[1;32m     13\u001b[0m     \u001b[0mcoro1\u001b[0m \u001b[0;34m=\u001b[0m \u001b[0mtask\u001b[0m\u001b[0;34m(\u001b[0m\u001b[0;36m1\u001b[0m\u001b[0;34m,\u001b[0m \u001b[0mlock1\u001b[0m\u001b[0;34m,\u001b[0m \u001b[0mlock2\u001b[0m\u001b[0;34m)\u001b[0m\u001b[0;34m\u001b[0m\u001b[0;34m\u001b[0m\u001b[0m\n\u001b[1;32m     14\u001b[0m     \u001b[0mcoro2\u001b[0m \u001b[0;34m=\u001b[0m \u001b[0mtask\u001b[0m\u001b[0;34m(\u001b[0m\u001b[0;36m2\u001b[0m\u001b[0;34m,\u001b[0m \u001b[0mlock2\u001b[0m\u001b[0;34m,\u001b[0m \u001b[0mlock1\u001b[0m\u001b[0;34m)\u001b[0m\u001b[0;34m\u001b[0m\u001b[0;34m\u001b[0m\u001b[0m\n\u001b[0;32m---> 15\u001b[0;31m     \u001b[0;32mawait\u001b[0m \u001b[0masyncio\u001b[0m\u001b[0;34m.\u001b[0m\u001b[0mgather\u001b[0m\u001b[0;34m(\u001b[0m\u001b[0mcoro1\u001b[0m\u001b[0;34m,\u001b[0m \u001b[0mcoro2\u001b[0m\u001b[0;34m)\u001b[0m\u001b[0;34m\u001b[0m\u001b[0;34m\u001b[0m\u001b[0m\n\u001b[0m\u001b[1;32m     16\u001b[0m \u001b[0;34m\u001b[0m\u001b[0m\n\u001b[1;32m     17\u001b[0m \u001b[0;32mawait\u001b[0m \u001b[0mmain\u001b[0m\u001b[0;34m(\u001b[0m\u001b[0;34m)\u001b[0m\u001b[0;34m\u001b[0m\u001b[0;34m\u001b[0m\u001b[0m\n",
            "\u001b[0;31mCancelledError\u001b[0m: "
          ]
        }
      ],
      "source": [
        "async def task(number, lock1, lock2):\n",
        "    print(f'Task {number} acquiring lock 1...')\n",
        "    async with lock1:\n",
        "        await asyncio.sleep(1)\n",
        "        print(f'Task {number} acquiring lock 2...')\n",
        "        async with lock2:\n",
        "            pass\n",
        "\n",
        "\n",
        "async def main():\n",
        "    lock1 = asyncio.Lock()\n",
        "    lock2 = asyncio.Lock()\n",
        "    coro1 = task(1, lock1, lock2)\n",
        "    coro2 = task(2, lock2, lock1)\n",
        "    await asyncio.gather(coro1, coro2)\n",
        "\n",
        "await main()"
      ]
    },
    {
      "cell_type": "markdown",
      "id": "742568a5",
      "metadata": {
        "id": "742568a5"
      },
      "source": [
        "Пример когда не удается снять блокировку"
      ]
    },
    {
      "cell_type": "code",
      "execution_count": null,
      "id": "028bb72e",
      "metadata": {
        "id": "028bb72e"
      },
      "outputs": [],
      "source": [
        "async def task(lock):\n",
        "    # acquire the lock\n",
        "    print('Task acquiring lock...')\n",
        "    await lock.acquire()\n",
        "    # fail\n",
        "    raise Exception('Something bad happened')\n",
        "    # release the lock (never gets here)\n",
        "    print('Task releasing lock...')\n",
        "    lock.release()\n",
        "\n",
        "\n",
        "async def main():\n",
        "    # create the mutex lock\n",
        "    lock = asyncio.Lock()\n",
        "    # create and start the new task\n",
        "    asyncio.create_task(task(lock))\n",
        "    # wait a moment\n",
        "    await asyncio.sleep(1)\n",
        "    # acquire the lock\n",
        "    print('Main acquiring lock...')\n",
        "    await lock.acquire()\n",
        "    # do something...\n",
        "    # release lock (never gets here)\n",
        "    lock.release()\n",
        "\n",
        "await main()"
      ]
    },
    {
      "cell_type": "markdown",
      "id": "e35fa194",
      "metadata": {
        "id": "e35fa194"
      },
      "source": [
        "Теперь рассмотрим некоторые из важных рекомендаций по предотвращению `deadlock`."
      ]
    },
    {
      "cell_type": "markdown",
      "id": "a9430558",
      "metadata": {
        "id": "a9430558"
      },
      "source": [
        "1) **Context Managers**\n",
        "\n",
        "По возможности получайте и снимайте блокировку с помощью контекстного менеджера.\n",
        "Блокировки могут быть получены вручную с помощью вызова функции `acquire()` в начале критической секции, за которым следует вызов функции `release()` в конце критической секции.\n",
        "\n",
        "По возможности следует избегать такого подхода:\n",
        "``` python\n",
        "# acquire the lock manually\n",
        "lock.acquire()\n",
        "# critical section...\n",
        "# release the lock\n",
        "lock.release()\n",
        "```"
      ]
    },
    {
      "cell_type": "markdown",
      "id": "b530373d",
      "metadata": {
        "id": "b530373d"
      },
      "source": [
        "Традиционно рекомендовалось всегда устанавливать и снимать блокировку в структуре `try-finally`.\n",
        "Блокировка получена, критическая секция выполняется в блоке try, и блокировка всегда снимается в блоке finally. Например:\n",
        "```python\n",
        "# acquire the lock\n",
        "lock.acquire()\n",
        "try:\n",
        "\t# critical section...\n",
        "finally:\n",
        "\t# always release the lock\n",
        "\tlock.release()\n",
        "```\n",
        "Но тех пор это было заменено интерфейсом context manager, который обеспечивает то же самое с меньшим количеством кода.\n",
        "```python\n",
        "# acquire the lock\n",
        "with lock:\n",
        "\t# critical section...\n",
        "```"
      ]
    },
    {
      "cell_type": "markdown",
      "id": "fe796bba",
      "metadata": {
        "id": "fe796bba"
      },
      "source": [
        "2) **Используйте тайм-ауты при ожидании**\n",
        "\n",
        "Всегда используйте тайм-аут при ожидании корутины или задачи.\n",
        "Многие вызовы, выполняемые с помощью примитивов синхронизации, могут блокироваться.\n",
        "Например:\n",
        "Ожидание получения `asyncio.Lock` с помощью `acquire()`.\n",
        "Ожидание завершения корутины с помощью выражения `await`.\n",
        "Ожидает получения уведомления о `asyncio.Condition` через `wait()`.\n",
        "\n",
        "В отличие от потоков и процессов, блокирующие вызовы примитивов синхронизации `asyncio` не принимают аргумент “тайм-аут”. Вместо этого мы должны использовать функцию `asyncio.wait_for()` для ожидания доступной (корутины или задачи) с тайм-аутом. Например:\n",
        "```python\n",
        "try:\n",
        "    await asyncio.wait_for(lock.acquire(), timeout=10)\n",
        "except asyncio.TimeoutError:\n",
        "```\n",
        "Это позволит ожидающей корутине прекратить ожидание по истечении установленного срока, а затем попытаться исправить ситуацию, например, сообщить об ошибке, принудительно завершить работу и т.д."
      ]
    },
    {
      "cell_type": "markdown",
      "id": "76107146",
      "metadata": {
        "id": "76107146"
      },
      "source": [
        "3) **Устанавливайте блокировки в одном и том же порядке по всему приложению, где это возможно.**"
      ]
    },
    {
      "cell_type": "markdown",
      "id": "d46e3f4c",
      "metadata": {
        "id": "d46e3f4c"
      },
      "source": [
        "## Примитивы синхронизации в asyncio"
      ]
    },
    {
      "cell_type": "markdown",
      "id": "7217b7ea",
      "metadata": {
        "id": "7217b7ea"
      },
      "source": [
        "При решении проблемы `race condition` на примере выше мы использовали асинхронный мьютекс, который является одним из примитивов синхронизации. Давайте более подробно расскажем о них."
      ]
    },
    {
      "cell_type": "markdown",
      "id": "d359ec43",
      "metadata": {
        "id": "d359ec43"
      },
      "source": [
        "Некоторые ошибки, встречающиеся в многопоточных и многопроцессных приложениях, исключены в силу однопоточной природы `asyncio`, но это не совсем так. Вам редко потребуется прибегать к синхронизации при работе с `asyncio`, однако остаются ситуации, когда с этим нужно что‑то делать. Примитивы синхронизации `asyncio` могут помочь предотвратить ошибки, свойственные только модели однопоточной конкурентности."
      ]
    },
    {
      "cell_type": "markdown",
      "id": "004c3335",
      "metadata": {
        "id": "004c3335"
      },
      "source": [
        "### `asyncio.Semaphore`"
      ]
    },
    {
      "cell_type": "markdown",
      "id": "bd7bbe3d",
      "metadata": {
        "id": "bd7bbe3d"
      },
      "source": [
        "Иногда нам необходимо получить доступ к ресурсу с ограниченным количеством одновременных запросов. Например, конкретная база данных допускает одновременное открытие только пяти соединений. Или, в зависимости от типа подписки, веб-интерфейс поддерживает только определенное количество одновременных запросов. В этом случае необходимо использовать `asyncio.Semaphore`."
      ]
    },
    {
      "cell_type": "markdown",
      "source": [
        "`asyncio.Semaphore` использует внутренний счетчик, который уменьшается на единицу при каждом получении блокировки `Semaphore`, пока не достигнет нуля.\n",
        "\n",
        "Когда счетчик `asyncio.Semaphore` равен нулю, другие задачи, которым нужна блокировка, будут ждать. При вызове метода `release` после выполнения других задач счетчик будет увеличен на единицу. Ожидающие задачи могут продолжить выполнение."
      ],
      "metadata": {
        "id": "FcQ4HxltYwya"
      },
      "id": "FcQ4HxltYwya"
    },
    {
      "cell_type": "code",
      "execution_count": null,
      "id": "6bee17e8",
      "metadata": {
        "id": "6bee17e8",
        "colab": {
          "base_uri": "https://localhost:8080/"
        },
        "outputId": "b47ab189-2fcd-4ebf-8498-74ce8272f41c"
      },
      "outputs": [
        {
          "output_type": "stream",
          "name": "stdout",
          "text": [
            "Waiting to acquire semaphore...\n",
            "Semaphore acquired, requesting...\n",
            "Waiting to acquire semaphore...\n",
            "Semaphore acquired, requesting...\n",
            "Waiting to acquire semaphore...\n",
            "Semaphore acquired, requesting...\n",
            "Waiting to acquire semaphore...\n",
            "Semaphore acquired, requesting...\n",
            "Waiting to acquire semaphore...\n",
            "Semaphore acquired, requesting...\n",
            "Waiting to acquire semaphore...\n",
            "Semaphore acquired, requesting...\n",
            "Waiting to acquire semaphore...\n",
            "Semaphore acquired, requesting...\n",
            "Waiting to acquire semaphore...\n",
            "Semaphore acquired, requesting...\n",
            "Waiting to acquire semaphore...\n",
            "Semaphore acquired, requesting...\n",
            "Waiting to acquire semaphore...\n",
            "Semaphore acquired, requesting...\n",
            "Waiting to acquire semaphore...\n",
            "Waiting to acquire semaphore...\n",
            "Waiting to acquire semaphore...\n",
            "Waiting to acquire semaphore...\n",
            "Waiting to acquire semaphore...\n",
            "Waiting to acquire semaphore...\n",
            "Waiting to acquire semaphore...\n",
            "Waiting to acquire semaphore...\n",
            "Waiting to acquire semaphore...\n",
            "Waiting to acquire semaphore...\n",
            "Waiting to acquire semaphore...\n",
            "Waiting to acquire semaphore...\n",
            "Waiting to acquire semaphore...\n",
            "Waiting to acquire semaphore...\n",
            "Waiting to acquire semaphore...\n",
            "Waiting to acquire semaphore...\n",
            "Waiting to acquire semaphore...\n",
            "Waiting to acquire semaphore...\n",
            "Waiting to acquire semaphore...\n",
            "Waiting to acquire semaphore...\n",
            "Waiting to acquire semaphore...\n",
            "Waiting to acquire semaphore...\n",
            "Waiting to acquire semaphore...\n",
            "Waiting to acquire semaphore...\n",
            "Waiting to acquire semaphore...\n",
            "Waiting to acquire semaphore...\n",
            "Waiting to acquire semaphore...\n",
            "Waiting to acquire semaphore...\n",
            "Waiting to acquire semaphore...\n",
            "Waiting to acquire semaphore...\n",
            "Waiting to acquire semaphore...\n",
            "Waiting to acquire semaphore...\n",
            "Waiting to acquire semaphore...\n",
            "Waiting to acquire semaphore...\n",
            "Waiting to acquire semaphore...\n",
            "Waiting to acquire semaphore...\n",
            "Waiting to acquire semaphore...\n",
            "Waiting to acquire semaphore...\n",
            "Waiting to acquire semaphore...\n",
            "Waiting to acquire semaphore...\n",
            "Waiting to acquire semaphore...\n",
            "Waiting to acquire semaphore...\n",
            "Waiting to acquire semaphore...\n",
            "Waiting to acquire semaphore...\n",
            "Waiting to acquire semaphore...\n",
            "Waiting to acquire semaphore...\n",
            "Waiting to acquire semaphore...\n",
            "Waiting to acquire semaphore...\n",
            "Waiting to acquire semaphore...\n",
            "Waiting to acquire semaphore...\n",
            "Waiting to acquire semaphore...\n",
            "Waiting to acquire semaphore...\n",
            "Waiting to acquire semaphore...\n",
            "Waiting to acquire semaphore...\n",
            "Waiting to acquire semaphore...\n",
            "Waiting to acquire semaphore...\n",
            "Waiting to acquire semaphore...\n",
            "Waiting to acquire semaphore...\n",
            "Waiting to acquire semaphore...\n",
            "Waiting to acquire semaphore...\n",
            "Waiting to acquire semaphore...\n",
            "Waiting to acquire semaphore...\n",
            "Waiting to acquire semaphore...\n",
            "Waiting to acquire semaphore...\n",
            "Waiting to acquire semaphore...\n",
            "Waiting to acquire semaphore...\n",
            "Waiting to acquire semaphore...\n",
            "Waiting to acquire semaphore...\n",
            "Waiting to acquire semaphore...\n",
            "Waiting to acquire semaphore...\n",
            "Waiting to acquire semaphore...\n",
            "Waiting to acquire semaphore...\n",
            "Waiting to acquire semaphore...\n",
            "Waiting to acquire semaphore...\n",
            "Waiting to acquire semaphore...\n",
            "Waiting to acquire semaphore...\n",
            "Waiting to acquire semaphore...\n",
            "Waiting to acquire semaphore...\n",
            "Waiting to acquire semaphore...\n",
            "Waiting to acquire semaphore...\n",
            "Waiting to acquire semaphore...\n",
            "Waiting to acquire semaphore...\n",
            "Waiting to acquire semaphore...\n",
            "Waiting to acquire semaphore...\n",
            "Waiting to acquire semaphore...\n",
            "Waiting to acquire semaphore...\n",
            "Waiting to acquire semaphore...\n",
            "Waiting to acquire semaphore...\n",
            "Waiting to acquire semaphore...\n",
            "Waiting to acquire semaphore...\n",
            "Finishing requesting\n",
            "Semaphore acquired, requesting...\n",
            "Finishing requesting\n",
            "Semaphore acquired, requesting...\n",
            "Finishing requesting\n",
            "Finishing requesting\n",
            "Semaphore acquired, requesting...\n",
            "Semaphore acquired, requesting...\n",
            "Finishing requesting\n",
            "Finishing requesting\n",
            "Finishing requesting\n",
            "Finishing requesting\n",
            "Finishing requesting\n",
            "Finishing requesting\n",
            "Finishing requesting\n",
            "Semaphore acquired, requesting...\n",
            "Semaphore acquired, requesting...\n",
            "Semaphore acquired, requesting...\n",
            "Semaphore acquired, requesting...\n",
            "Semaphore acquired, requesting...\n",
            "Semaphore acquired, requesting...\n",
            "Semaphore acquired, requesting...\n",
            "Finishing requesting\n",
            "Semaphore acquired, requesting...\n",
            "Finishing requesting\n",
            "Finishing requesting\n",
            "Semaphore acquired, requesting...\n",
            "Semaphore acquired, requesting...\n",
            "Finishing requesting\n",
            "Finishing requesting\n",
            "Finishing requesting\n",
            "Semaphore acquired, requesting...\n",
            "Semaphore acquired, requesting...\n",
            "Semaphore acquired, requesting...\n",
            "Finishing requesting\n",
            "Finishing requesting\n",
            "Semaphore acquired, requesting...\n",
            "Semaphore acquired, requesting...\n",
            "Finishing requesting\n",
            "Finishing requesting\n",
            "Finishing requesting\n",
            "Finishing requesting\n",
            "Finishing requesting\n",
            "Semaphore acquired, requesting...\n",
            "Semaphore acquired, requesting...\n",
            "Semaphore acquired, requesting...\n",
            "Semaphore acquired, requesting...\n",
            "Semaphore acquired, requesting...\n",
            "Finishing requesting\n",
            "Finishing requesting\n",
            "Finishing requesting\n",
            "Semaphore acquired, requesting...\n",
            "Semaphore acquired, requesting...\n",
            "Semaphore acquired, requesting...\n",
            "Finishing requesting\n",
            "Finishing requesting\n",
            "Semaphore acquired, requesting...\n",
            "Semaphore acquired, requesting...\n",
            "Finishing requesting\n",
            "Finishing requesting\n",
            "Semaphore acquired, requesting...\n",
            "Semaphore acquired, requesting...\n",
            "Finishing requesting\n",
            "Finishing requesting\n",
            "Semaphore acquired, requesting...\n",
            "Semaphore acquired, requesting...\n",
            "Finishing requesting\n",
            "Semaphore acquired, requesting...\n",
            "Finishing requesting\n",
            "Finishing requesting\n",
            "Semaphore acquired, requesting...\n",
            "Semaphore acquired, requesting...\n",
            "Finishing requesting\n",
            "Semaphore acquired, requesting...\n",
            "Finishing requesting\n",
            "Finishing requesting\n",
            "Semaphore acquired, requesting...\n",
            "Semaphore acquired, requesting...\n",
            "Finishing requesting\n",
            "Finishing requesting\n",
            "Semaphore acquired, requesting...\n",
            "Semaphore acquired, requesting...\n",
            "Finishing requesting\n",
            "Finishing requesting\n",
            "Finishing requesting\n",
            "Semaphore acquired, requesting...\n",
            "Semaphore acquired, requesting...\n",
            "Semaphore acquired, requesting...\n",
            "Finishing requesting\n",
            "Finishing requesting\n",
            "Semaphore acquired, requesting...\n",
            "Semaphore acquired, requesting...\n",
            "Finishing requesting\n",
            "Finishing requesting\n",
            "Finishing requesting\n",
            "Finishing requesting\n",
            "Semaphore acquired, requesting...\n",
            "Semaphore acquired, requesting...\n",
            "Semaphore acquired, requesting...\n",
            "Semaphore acquired, requesting...\n",
            "Finishing requesting\n",
            "Semaphore acquired, requesting...\n",
            "Finishing requesting\n",
            "Finishing requesting\n",
            "Finishing requesting\n",
            "Semaphore acquired, requesting...\n",
            "Semaphore acquired, requesting...\n",
            "Semaphore acquired, requesting...\n",
            "Finishing requesting\n",
            "Finishing requesting\n",
            "Semaphore acquired, requesting...\n",
            "Semaphore acquired, requesting...\n",
            "Finishing requesting\n",
            "Finishing requesting\n",
            "Finishing requesting\n",
            "Finishing requesting\n",
            "Finishing requesting\n",
            "Semaphore acquired, requesting...\n",
            "Semaphore acquired, requesting...\n",
            "Semaphore acquired, requesting...\n",
            "Semaphore acquired, requesting...\n",
            "Semaphore acquired, requesting...\n",
            "Finishing requesting\n",
            "Semaphore acquired, requesting...\n",
            "Finishing requesting\n",
            "Finishing requesting\n",
            "Semaphore acquired, requesting...\n",
            "Semaphore acquired, requesting...\n",
            "Finishing requesting\n",
            "Finishing requesting\n",
            "Semaphore acquired, requesting...\n",
            "Semaphore acquired, requesting...\n",
            "Finishing requesting\n",
            "Finishing requesting\n",
            "Semaphore acquired, requesting...\n",
            "Semaphore acquired, requesting...\n",
            "Finishing requesting\n",
            "Finishing requesting\n",
            "Finishing requesting\n",
            "Semaphore acquired, requesting...\n",
            "Semaphore acquired, requesting...\n",
            "Semaphore acquired, requesting...\n",
            "Finishing requesting\n",
            "Finishing requesting\n",
            "Semaphore acquired, requesting...\n",
            "Semaphore acquired, requesting...\n",
            "Finishing requesting\n",
            "Finishing requesting\n",
            "Semaphore acquired, requesting...\n",
            "Semaphore acquired, requesting...\n",
            "Finishing requesting\n",
            "Semaphore acquired, requesting...\n",
            "Finishing requesting\n",
            "Finishing requesting\n",
            "Semaphore acquired, requesting...\n",
            "Semaphore acquired, requesting...\n",
            "Finishing requesting\n",
            "Finishing requesting\n",
            "Finishing requesting\n",
            "Finishing requesting\n",
            "Semaphore acquired, requesting...\n",
            "Semaphore acquired, requesting...\n",
            "Semaphore acquired, requesting...\n",
            "Semaphore acquired, requesting...\n",
            "Finishing requesting\n",
            "Finishing requesting\n",
            "Semaphore acquired, requesting...\n",
            "Semaphore acquired, requesting...\n",
            "Finishing requesting\n",
            "Semaphore acquired, requesting...\n",
            "Finishing requesting\n",
            "Semaphore acquired, requesting...\n",
            "Finishing requesting\n",
            "Finishing requesting\n",
            "Finishing requesting\n",
            "Finishing requesting\n",
            "Semaphore acquired, requesting...\n",
            "Semaphore acquired, requesting...\n",
            "Semaphore acquired, requesting...\n",
            "Semaphore acquired, requesting...\n",
            "Finishing requesting\n",
            "Finishing requesting\n",
            "Finishing requesting\n",
            "Finishing requesting\n",
            "Finishing requesting\n",
            "Finishing requesting\n",
            "Finishing requesting\n",
            "Finishing requesting\n",
            "Finishing requesting\n",
            "Finishing requesting\n"
          ]
        }
      ],
      "source": [
        "from asyncio import Semaphore\n",
        "from aiohttp import ClientSession\n",
        "\n",
        "\n",
        "async def get_url(url: str, session: ClientSession, semaphore: Semaphore):\n",
        "    print('Waiting to acquire semaphore...')\n",
        "    async with semaphore:\n",
        "        print('Semaphore acquired, requesting...')\n",
        "        response = await session.get(url)\n",
        "        print('Finishing requesting')\n",
        "        return response.status\n",
        "\n",
        "\n",
        "async def main():\n",
        "    # Хотя мы запускаем 100 задач, одновременно будут выполняться только 10 задач.\n",
        "    semaphore: Semaphore = Semaphore(10)\n",
        "    async with ClientSession() as session:\n",
        "        tasks = [asyncio.create_task(get_url(\"https://www.example.com\", session, semaphore))\n",
        "                 for _ in range(100)]\n",
        "        await asyncio.gather(*tasks)\n",
        "\n",
        "await main()"
      ]
    },
    {
      "cell_type": "markdown",
      "id": "3eccd042",
      "metadata": {
        "id": "3eccd042"
      },
      "source": [
        "### `asyncio.Event`"
      ]
    },
    {
      "cell_type": "markdown",
      "id": "268b7ed8",
      "metadata": {
        "id": "268b7ed8"
      },
      "source": [
        "`Event` поддерживает внутреннюю булеву переменную в качестве флага. `asyncio.Event` имеет три общих метода: `wait`, `set` и `clear`.\n"
      ]
    },
    {
      "cell_type": "markdown",
      "source": [
        "Когда задача добегает до `event.wait()`, она находится в состоянии ожидания. В этот момент можно вызвать `event.set()`, чтобы установить внутренний маркер в `True`, и все ожидающие задачи могут продолжить выполнение."
      ],
      "metadata": {
        "id": "jQuUo1B9Y8kN"
      },
      "id": "jQuUo1B9Y8kN"
    },
    {
      "cell_type": "markdown",
      "source": [
        "Когда задача завершится, необходимо вызвать метод `event.clear()`, чтобы сбросить значение маркера в `False`, вернуть событие в исходное состояние, и можно продолжать использовать событие в следующий раз."
      ],
      "metadata": {
        "id": "nEINnJc7Y-Lh"
      },
      "id": "nEINnJc7Y-Lh"
    },
    {
      "cell_type": "code",
      "execution_count": null,
      "id": "f6425d9f",
      "metadata": {
        "id": "f6425d9f"
      },
      "outputs": [],
      "source": [
        "async def coro1(event):\n",
        "    print(\"coro1: Waiting for the event to be set\")\n",
        "    await event.wait()  # Ждем, пока событие не будет установлено\n",
        "    print(\"coro1: Event has been set\")\n",
        "\n",
        "async def coro2(event):\n",
        "    await asyncio.sleep(10)  # Подождем 2 секунды\n",
        "    print(\"coro2: Setting the event\")\n",
        "    event.set()  # Устанавливаем событие\n",
        "\n",
        "async def main():\n",
        "    # Создаем объект события\n",
        "    event = asyncio.Event()\n",
        "\n",
        "    # Запускаем два таска\n",
        "    task1 = asyncio.create_task(coro1(event))\n",
        "    task2 = asyncio.create_task(coro2(event))\n",
        "\n",
        "    # Ждем, пока оба таска завершат выполнение\n",
        "    await asyncio.gather(task1, task2)\n",
        "\n",
        "await main()"
      ]
    },
    {
      "cell_type": "markdown",
      "id": "f3bedd91",
      "metadata": {
        "id": "f3bedd91"
      },
      "source": [
        "### `asyncio.Condition`"
      ]
    },
    {
      "cell_type": "markdown",
      "id": "debece46",
      "metadata": {
        "id": "debece46"
      },
      "source": [
        "`asyncio.Event` хорош, когда нужно просто уведомить о том, что произошло нечто, но бывают ситуации посложнее. Допустим, что по событию требуется получить доступ к разделяемому ресурсу, т.е. захватить блокировку. Или что перед продолжением работы нужно дождаться более сложного сочетания условий, чем простое событие. Или что нужно разбудить не все задачи, а только определенное число. Во всех этих случаях может выручить `asyncio.Condition`."
      ]
    },
    {
      "cell_type": "markdown",
      "source": [
        "`asyncio.Condition` похож на `asyncio.Lock` и `asyncio.Event` вместе взятые. Сначала мы используем `async with`, чтобы обеспечить получение блокировки условия, а затем вызываем `condition.wait()`, чтобы освободить блокировку условия и заставить задачу временно подождать."
      ],
      "metadata": {
        "id": "xqvTxdr1ZJ8l"
      },
      "id": "xqvTxdr1ZJ8l"
    },
    {
      "cell_type": "markdown",
      "source": [
        "Когда `condition.wait()` проходит, мы возвращаем блокировку условия, чтобы гарантировать одновременное выполнение только одной задачи. Пока задача временно освобождает блокировку и переходит в состояние ожидания по методу `condition.wait()`, другая задача может либо асинхронизироваться с блокировкой условия и уведомить все ожидающие задачи о необходимости продолжить выполнение по методу `condition.notify_all()`."
      ],
      "metadata": {
        "id": "iL30yO2qZLlh"
      },
      "id": "iL30yO2qZLlh"
    },
    {
      "cell_type": "code",
      "execution_count": null,
      "id": "7d922322",
      "metadata": {
        "id": "7d922322"
      },
      "outputs": [],
      "source": [
        "from asyncio import Condition\n",
        "\n",
        "\n",
        "async def do_work(condition: Condition):\n",
        "    print(\"do_work: захватываю блокировку условия...\")\n",
        "    async with condition:\n",
        "        print(\"do_work: Блокировка захвачена, освобождаю и жду выполнения условия...\")\n",
        "        await condition.wait()\n",
        "        print(\"do_work: Условие выполнено, вновь захватываю блокировку и начинаю работать...\")\n",
        "        await asyncio.sleep(1)\n",
        "        print(\"do_work: Работа закончена, блокировка освобождена.\")\n",
        "\n",
        "\n",
        "async def fire_event(condition: Condition):\n",
        "    await asyncio.sleep(5)\n",
        "    print(\"fire_event: захватываю блокировку условия...\")\n",
        "    async with condition:\n",
        "        print(\"fire_event: Блокировка захвачена, уведомляю всех исполнителей\")\n",
        "        condition.notify_all()\n",
        "        print(\"fire_event: Исполнители уведомлены, освобождаю блокировку.\")\n",
        "\n",
        "\n",
        "async def main():\n",
        "    condition = Condition()\n",
        "    asyncio.create_task(fire_event(condition))\n",
        "\n",
        "    await asyncio.gather(do_work(condition), do_work(condition))\n",
        "\n",
        "\n",
        "if __name__ == \"__main__\":\n",
        "    await main()"
      ]
    },
    {
      "cell_type": "markdown",
      "id": "ecc75ce7",
      "metadata": {
        "id": "ecc75ce7"
      },
      "source": [
        "Иногда мы используем `asyncio.Condition`, чтобы ждать выполнения определенного условия перед переходом к следующему шагу. Мы можем вызвать `condition.wait_for()` и передать метод в качестве аргумента. При каждом вызове `condition.notify_all` метод `condition.wait_for` проверяет результат выполнения переданного метода. Если результат равен `True`, ожидание завершается, если `False` - ожидание продолжается."
      ]
    },
    {
      "cell_type": "markdown",
      "source": [
        "Пример использования `condition.wait_for` может быть проиллюстрирован на следующем коде. Мы моделируем подключение к базе данных, проверяя, инициализировано ли соединение, и выполняем запрос, если инициализация завершена. В противном случае код ждет завершения инициализации соединения."
      ],
      "metadata": {
        "id": "bmw7-iNNZS7U"
      },
      "id": "bmw7-iNNZS7U"
    },
    {
      "cell_type": "code",
      "execution_count": null,
      "id": "5b9d534b",
      "metadata": {
        "id": "5b9d534b"
      },
      "outputs": [],
      "source": [
        "from asyncio import Condition\n",
        "from enum import Enum"
      ]
    },
    {
      "cell_type": "code",
      "execution_count": null,
      "id": "2013c965",
      "metadata": {
        "id": "2013c965"
      },
      "outputs": [],
      "source": [
        "class ConnectionState(Enum):\n",
        "    WAIT_INIT = 0\n",
        "    INITIALING = 1\n",
        "    INITIALIZED = 2"
      ]
    },
    {
      "cell_type": "code",
      "execution_count": null,
      "id": "04ddca74",
      "metadata": {
        "id": "04ddca74"
      },
      "outputs": [],
      "source": [
        "class Connection:\n",
        "    def __init__(self):\n",
        "        self._state = ConnectionState.WAIT_INIT\n",
        "        self._condition = Condition()\n",
        "\n",
        "    async def initialize(self):\n",
        "        print(\"initialize: Preparing initialize the connection.\")\n",
        "        await self._change_state(ConnectionState.INITIALING)\n",
        "        await asyncio.sleep(5)\n",
        "        print(\"initialize: Connection initialized\")\n",
        "        await self._change_state(ConnectionState.INITIALIZED)\n",
        "\n",
        "    async def execute(self, query: str):\n",
        "        async with self._condition:\n",
        "            print(\"execute: Waiting for connection initialized\")\n",
        "            await self._condition.wait_for(self._is_initialized)\n",
        "            print(f\"execute: Connection initialized, executing query: {query}\")\n",
        "            await asyncio.sleep(5)\n",
        "            print(\"execute: Execute finished.\")\n",
        "\n",
        "    async def _change_state(self, state: ConnectionState):\n",
        "        print(f\"_change_state: Will change state from {self._state} to {state}\")\n",
        "        self._state = state\n",
        "        print(\"_change_state: Change the state and notify all..\")\n",
        "        async with self._condition:\n",
        "            self._condition.notify_all()\n",
        "\n",
        "    def _is_initialized(self):\n",
        "        if self._state is not ConnectionState.INITIALIZED:\n",
        "            print(\"_is_initialized: The connection is not initialized.\")\n",
        "            return False\n",
        "        print(\"_is_initialized: The connection is ready.\")\n",
        "        return True"
      ]
    },
    {
      "cell_type": "code",
      "execution_count": null,
      "id": "9ebd1fb2",
      "metadata": {
        "id": "9ebd1fb2"
      },
      "outputs": [],
      "source": [
        "async def main():\n",
        "    connection = Connection()\n",
        "    task_one = asyncio.create_task(connection.execute(\"SELECT * FROM table\"))\n",
        "    task_two = asyncio.create_task(connection.execute(\"SELECT * FROM other_table\"))\n",
        "\n",
        "    asyncio.create_task(connection.initialize())\n",
        "    await asyncio.gather(task_one, task_two)\n",
        "await main()"
      ]
    },
    {
      "cell_type": "markdown",
      "id": "1beaa91c",
      "metadata": {
        "id": "1beaa91c"
      },
      "source": [
        "## Библиотека `concurrent.futures`"
      ]
    },
    {
      "cell_type": "markdown",
      "id": "c58fdb31",
      "metadata": {
        "id": "c58fdb31"
      },
      "source": [
        "Кроме библиотеки `asyncio` в `Python` есть не менее интересная библиотека `concurrent.futures`."
      ]
    },
    {
      "cell_type": "markdown",
      "id": "3b614c82",
      "metadata": {
        "id": "3b614c82"
      },
      "source": [
        "Какие преимущества предоставляет этот модуль?\n",
        "\n",
        "1) **Простота использования:** `concurrent.futures` предоставляет простой и интуитивно понятный API для запуска задач параллельно. Это позволяет сосредоточиться на решении задачи, а не на деталях многозадачности.\n",
        "\n",
        "2) **Автоматическое масштабирование:** Модуль позволяет легко масштабировать задачи, выполняемые в пулах потоков (ThreadPoolExecutor) и пулах процессов (ProcessPoolExecutor). Вы можете использовать их в зависимости от характера задачи и доступных ресурсов.\n",
        "\n",
        "3) **Удобная обработка результатов:** `concurrent.futures` предоставляет `Future` объекты, которые позволяют отслеживать выполнение задач и получать результаты, когда они готовы.\n",
        "\n",
        "4) **Отсутствие необходимости заботиться о GIL:** В отличие от многих других способов параллельного выполнения в Python, concurrent.futures позволяет избежать проблем, связанных с `Global Interpreter Lock (GIL)`, что делает его отличным выбором для многозадачных приложений.\n",
        "Подробно [тут](https://habr.com/ru/companies/otus/articles/771346/)."
      ]
    },
    {
      "cell_type": "markdown",
      "id": "45eaa740",
      "metadata": {
        "id": "45eaa740"
      },
      "source": [
        "Полезные ссылки по теме семинара:\n",
        "* Документация Asyncio : https://docs.python.org/3/library/asyncio.html\n",
        "* Документация Tornado : https://www.tornadoweb.org/en/stable/guide/async.html\n",
        "* Документация Gevent : http://www.gevent.org/index.html\n",
        "* Документация Multiproccesing : https://docs.python.org/3/library/multiprocessing.html\n",
        "* Документация Threading: https://docs.python.org/3/library/threading.html\n",
        "* GIL: https://wiki.python.org/moin/GlobalInterpreterLock"
      ]
    }
  ],
  "metadata": {
    "kernelspec": {
      "display_name": "Python 3 (ipykernel)",
      "language": "python",
      "name": "python3"
    },
    "language_info": {
      "codemirror_mode": {
        "name": "ipython",
        "version": 3
      },
      "file_extension": ".py",
      "mimetype": "text/x-python",
      "name": "python",
      "nbconvert_exporter": "python",
      "pygments_lexer": "ipython3",
      "version": "3.9.13"
    },
    "colab": {
      "provenance": [],
      "toc_visible": true,
      "include_colab_link": true
    }
  },
  "nbformat": 4,
  "nbformat_minor": 5
}